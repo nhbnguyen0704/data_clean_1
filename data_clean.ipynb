{
 "cells": [
  {
   "cell_type": "code",
   "execution_count": 456,
   "metadata": {},
   "outputs": [],
   "source": [
    "import pandas as pd\n",
    "import numpy as np"
   ]
  },
  {
   "cell_type": "code",
   "execution_count": 403,
   "metadata": {},
   "outputs": [
    {
     "name": "stderr",
     "output_type": "stream",
     "text": [
      "/var/folders/v0/84n2brq13nl0lv8hgw1lgk180000gn/T/ipykernel_16255/1063641727.py:1: DtypeWarning: Columns (22,32) have mixed types. Specify dtype option on import or set low_memory=False.\n",
      "  df = pd.read_csv('/Users/binhn/Documents/documents/Portfolio/data_cleaning/raw_data/Building_Permits.csv')\n"
     ]
    },
    {
     "data": {
      "text/html": [
       "<div>\n",
       "<style scoped>\n",
       "    .dataframe tbody tr th:only-of-type {\n",
       "        vertical-align: middle;\n",
       "    }\n",
       "\n",
       "    .dataframe tbody tr th {\n",
       "        vertical-align: top;\n",
       "    }\n",
       "\n",
       "    .dataframe thead th {\n",
       "        text-align: right;\n",
       "    }\n",
       "</style>\n",
       "<table border=\"1\" class=\"dataframe\">\n",
       "  <thead>\n",
       "    <tr style=\"text-align: right;\">\n",
       "      <th></th>\n",
       "      <th>Permit Number</th>\n",
       "      <th>Permit Type</th>\n",
       "      <th>Permit Type Definition</th>\n",
       "      <th>Permit Creation Date</th>\n",
       "      <th>Block</th>\n",
       "      <th>Lot</th>\n",
       "      <th>Street Number</th>\n",
       "      <th>Street Number Suffix</th>\n",
       "      <th>Street Name</th>\n",
       "      <th>Street Suffix</th>\n",
       "      <th>...</th>\n",
       "      <th>Existing Construction Type</th>\n",
       "      <th>Existing Construction Type Description</th>\n",
       "      <th>Proposed Construction Type</th>\n",
       "      <th>Proposed Construction Type Description</th>\n",
       "      <th>Site Permit</th>\n",
       "      <th>Supervisor District</th>\n",
       "      <th>Neighborhoods - Analysis Boundaries</th>\n",
       "      <th>Zipcode</th>\n",
       "      <th>Location</th>\n",
       "      <th>Record ID</th>\n",
       "    </tr>\n",
       "  </thead>\n",
       "  <tbody>\n",
       "    <tr>\n",
       "      <th>0</th>\n",
       "      <td>201505065519</td>\n",
       "      <td>4</td>\n",
       "      <td>sign - erect</td>\n",
       "      <td>05/06/2015</td>\n",
       "      <td>0326</td>\n",
       "      <td>023</td>\n",
       "      <td>140</td>\n",
       "      <td>NaN</td>\n",
       "      <td>Ellis</td>\n",
       "      <td>St</td>\n",
       "      <td>...</td>\n",
       "      <td>3.0</td>\n",
       "      <td>constr type 3</td>\n",
       "      <td>NaN</td>\n",
       "      <td>NaN</td>\n",
       "      <td>NaN</td>\n",
       "      <td>3.0</td>\n",
       "      <td>Tenderloin</td>\n",
       "      <td>94102.0</td>\n",
       "      <td>(37.785719256680785, -122.40852313194863)</td>\n",
       "      <td>1380611233945</td>\n",
       "    </tr>\n",
       "    <tr>\n",
       "      <th>1</th>\n",
       "      <td>201604195146</td>\n",
       "      <td>4</td>\n",
       "      <td>sign - erect</td>\n",
       "      <td>04/19/2016</td>\n",
       "      <td>0306</td>\n",
       "      <td>007</td>\n",
       "      <td>440</td>\n",
       "      <td>NaN</td>\n",
       "      <td>Geary</td>\n",
       "      <td>St</td>\n",
       "      <td>...</td>\n",
       "      <td>3.0</td>\n",
       "      <td>constr type 3</td>\n",
       "      <td>NaN</td>\n",
       "      <td>NaN</td>\n",
       "      <td>NaN</td>\n",
       "      <td>3.0</td>\n",
       "      <td>Tenderloin</td>\n",
       "      <td>94102.0</td>\n",
       "      <td>(37.78733980600732, -122.41063199757738)</td>\n",
       "      <td>1420164406718</td>\n",
       "    </tr>\n",
       "    <tr>\n",
       "      <th>2</th>\n",
       "      <td>201605278609</td>\n",
       "      <td>3</td>\n",
       "      <td>additions alterations or repairs</td>\n",
       "      <td>05/27/2016</td>\n",
       "      <td>0595</td>\n",
       "      <td>203</td>\n",
       "      <td>1647</td>\n",
       "      <td>NaN</td>\n",
       "      <td>Pacific</td>\n",
       "      <td>Av</td>\n",
       "      <td>...</td>\n",
       "      <td>1.0</td>\n",
       "      <td>constr type 1</td>\n",
       "      <td>1.0</td>\n",
       "      <td>constr type 1</td>\n",
       "      <td>NaN</td>\n",
       "      <td>3.0</td>\n",
       "      <td>Russian Hill</td>\n",
       "      <td>94109.0</td>\n",
       "      <td>(37.7946573324287, -122.42232562979227)</td>\n",
       "      <td>1424856504716</td>\n",
       "    </tr>\n",
       "    <tr>\n",
       "      <th>3</th>\n",
       "      <td>201611072166</td>\n",
       "      <td>8</td>\n",
       "      <td>otc alterations permit</td>\n",
       "      <td>11/07/2016</td>\n",
       "      <td>0156</td>\n",
       "      <td>011</td>\n",
       "      <td>1230</td>\n",
       "      <td>NaN</td>\n",
       "      <td>Pacific</td>\n",
       "      <td>Av</td>\n",
       "      <td>...</td>\n",
       "      <td>5.0</td>\n",
       "      <td>wood frame (5)</td>\n",
       "      <td>5.0</td>\n",
       "      <td>wood frame (5)</td>\n",
       "      <td>NaN</td>\n",
       "      <td>3.0</td>\n",
       "      <td>Nob Hill</td>\n",
       "      <td>94109.0</td>\n",
       "      <td>(37.79595867909168, -122.41557405519474)</td>\n",
       "      <td>1443574295566</td>\n",
       "    </tr>\n",
       "    <tr>\n",
       "      <th>4</th>\n",
       "      <td>201611283529</td>\n",
       "      <td>6</td>\n",
       "      <td>demolitions</td>\n",
       "      <td>11/28/2016</td>\n",
       "      <td>0342</td>\n",
       "      <td>001</td>\n",
       "      <td>950</td>\n",
       "      <td>NaN</td>\n",
       "      <td>Market</td>\n",
       "      <td>St</td>\n",
       "      <td>...</td>\n",
       "      <td>3.0</td>\n",
       "      <td>constr type 3</td>\n",
       "      <td>NaN</td>\n",
       "      <td>NaN</td>\n",
       "      <td>NaN</td>\n",
       "      <td>6.0</td>\n",
       "      <td>Tenderloin</td>\n",
       "      <td>94102.0</td>\n",
       "      <td>(37.78315261897309, -122.40950883997789)</td>\n",
       "      <td>144548169992</td>\n",
       "    </tr>\n",
       "  </tbody>\n",
       "</table>\n",
       "<p>5 rows × 43 columns</p>\n",
       "</div>"
      ],
      "text/plain": [
       "  Permit Number  Permit Type            Permit Type Definition  \\\n",
       "0  201505065519            4                      sign - erect   \n",
       "1  201604195146            4                      sign - erect   \n",
       "2  201605278609            3  additions alterations or repairs   \n",
       "3  201611072166            8            otc alterations permit   \n",
       "4  201611283529            6                       demolitions   \n",
       "\n",
       "  Permit Creation Date Block  Lot  Street Number Street Number Suffix  \\\n",
       "0           05/06/2015  0326  023            140                  NaN   \n",
       "1           04/19/2016  0306  007            440                  NaN   \n",
       "2           05/27/2016  0595  203           1647                  NaN   \n",
       "3           11/07/2016  0156  011           1230                  NaN   \n",
       "4           11/28/2016  0342  001            950                  NaN   \n",
       "\n",
       "  Street Name Street Suffix  ...  Existing Construction Type  \\\n",
       "0       Ellis            St  ...                         3.0   \n",
       "1       Geary            St  ...                         3.0   \n",
       "2     Pacific            Av  ...                         1.0   \n",
       "3     Pacific            Av  ...                         5.0   \n",
       "4      Market            St  ...                         3.0   \n",
       "\n",
       "  Existing Construction Type Description Proposed Construction Type  \\\n",
       "0                          constr type 3                        NaN   \n",
       "1                          constr type 3                        NaN   \n",
       "2                          constr type 1                        1.0   \n",
       "3                         wood frame (5)                        5.0   \n",
       "4                          constr type 3                        NaN   \n",
       "\n",
       "  Proposed Construction Type Description Site Permit Supervisor District  \\\n",
       "0                                    NaN         NaN                 3.0   \n",
       "1                                    NaN         NaN                 3.0   \n",
       "2                          constr type 1         NaN                 3.0   \n",
       "3                         wood frame (5)         NaN                 3.0   \n",
       "4                                    NaN         NaN                 6.0   \n",
       "\n",
       "  Neighborhoods - Analysis Boundaries  Zipcode  \\\n",
       "0                          Tenderloin  94102.0   \n",
       "1                          Tenderloin  94102.0   \n",
       "2                        Russian Hill  94109.0   \n",
       "3                            Nob Hill  94109.0   \n",
       "4                          Tenderloin  94102.0   \n",
       "\n",
       "                                    Location      Record ID  \n",
       "0  (37.785719256680785, -122.40852313194863)  1380611233945  \n",
       "1   (37.78733980600732, -122.41063199757738)  1420164406718  \n",
       "2    (37.7946573324287, -122.42232562979227)  1424856504716  \n",
       "3   (37.79595867909168, -122.41557405519474)  1443574295566  \n",
       "4   (37.78315261897309, -122.40950883997789)   144548169992  \n",
       "\n",
       "[5 rows x 43 columns]"
      ]
     },
     "execution_count": 403,
     "metadata": {},
     "output_type": "execute_result"
    }
   ],
   "source": [
    "df = pd.read_csv('/Users/binhn/Documents/documents/Portfolio/data_cleaning/raw_data/Building_Permits.csv')\n",
    "df.head()"
   ]
  },
  {
   "cell_type": "markdown",
   "metadata": {},
   "source": [
    "Handling missing data"
   ]
  },
  {
   "cell_type": "code",
   "execution_count": 404,
   "metadata": {},
   "outputs": [
    {
     "data": {
      "text/plain": [
       "Permit Number                                  0\n",
       "Permit Type                                    0\n",
       "Permit Type Definition                         0\n",
       "Permit Creation Date                           0\n",
       "Block                                          0\n",
       "Lot                                            0\n",
       "Street Number                                  0\n",
       "Street Number Suffix                      196684\n",
       "Street Name                                    0\n",
       "Street Suffix                               2768\n",
       "Unit                                      169421\n",
       "Unit Suffix                               196939\n",
       "Description                                  290\n",
       "Current Status                                 0\n",
       "Current Status Date                            0\n",
       "Filed Date                                     0\n",
       "Issued Date                                14940\n",
       "Completed Date                            101709\n",
       "First Construction Document Date           14946\n",
       "Structural Notification                   191978\n",
       "Number of Existing Stories                 42784\n",
       "Number of Proposed Stories                 42868\n",
       "Voluntary Soft-Story Retrofit             198865\n",
       "Fire Only Permit                          180073\n",
       "Permit Expiration Date                     51880\n",
       "Estimated Cost                             38066\n",
       "Revised Cost                                6066\n",
       "Existing Use                               41114\n",
       "Existing Units                             51538\n",
       "Proposed Use                               42439\n",
       "Proposed Units                             50911\n",
       "Plansets                                   37309\n",
       "TIDF Compliance                           198898\n",
       "Existing Construction Type                 43366\n",
       "Existing Construction Type Description     43366\n",
       "Proposed Construction Type                 43162\n",
       "Proposed Construction Type Description     43162\n",
       "Site Permit                               193541\n",
       "Supervisor District                         1717\n",
       "Neighborhoods - Analysis Boundaries         1725\n",
       "Zipcode                                     1716\n",
       "Location                                    1700\n",
       "Record ID                                      0\n",
       "dtype: int64"
      ]
     },
     "execution_count": 404,
     "metadata": {},
     "output_type": "execute_result"
    }
   ],
   "source": [
    "# Missing value of each column\n",
    "cols_missing_cells = df.isnull().sum()\n",
    "cols_missing_cells"
   ]
  },
  {
   "cell_type": "code",
   "execution_count": 405,
   "metadata": {},
   "outputs": [
    {
     "data": {
      "text/plain": [
       "Permit Number                              0.000000\n",
       "Permit Type                                0.000000\n",
       "Permit Type Definition                     0.000000\n",
       "Permit Creation Date                       0.000000\n",
       "Block                                      0.000000\n",
       "Lot                                        0.000000\n",
       "Street Number                              0.000000\n",
       "Street Number Suffix                      98.885872\n",
       "Street Name                                0.000000\n",
       "Street Suffix                              1.391654\n",
       "Unit                                      85.178984\n",
       "Unit Suffix                               99.014077\n",
       "Description                                0.145802\n",
       "Current Status                             0.000000\n",
       "Current Status Date                        0.000000\n",
       "Filed Date                                 0.000000\n",
       "Issued Date                                7.511312\n",
       "Completed Date                            51.135747\n",
       "First Construction Document Date           7.514329\n",
       "Structural Notification                   96.519859\n",
       "Number of Existing Stories                21.510307\n",
       "Number of Proposed Stories                21.552539\n",
       "Voluntary Soft-Story Retrofit             99.982403\n",
       "Fire Only Permit                          90.534439\n",
       "Permit Expiration Date                    26.083459\n",
       "Estimated Cost                            19.138260\n",
       "Revised Cost                               3.049774\n",
       "Existing Use                              20.670689\n",
       "Existing Units                            25.911513\n",
       "Proposed Use                              21.336853\n",
       "Proposed Units                            25.596280\n",
       "Plansets                                  18.757667\n",
       "TIDF Compliance                           99.998994\n",
       "Existing Construction Type                21.802916\n",
       "Existing Construction Type Description    21.802916\n",
       "Proposed Construction Type                21.700352\n",
       "Proposed Construction Type Description    21.700352\n",
       "Site Permit                               97.305681\n",
       "Supervisor District                        0.863248\n",
       "Neighborhoods - Analysis Boundaries        0.867270\n",
       "Zipcode                                    0.862745\n",
       "Location                                   0.854701\n",
       "Record ID                                  0.000000\n",
       "dtype: float64"
      ]
     },
     "execution_count": 405,
     "metadata": {},
     "output_type": "execute_result"
    }
   ],
   "source": [
    "# Percentage of missing value per column\n",
    "shape = df.shape\n",
    "num_rows = shape[0]\n",
    "percentage_missing_value_per_col = (cols_missing_cells/num_rows)*100\n",
    "percentage_missing_value_per_col"
   ]
  },
  {
   "cell_type": "code",
   "execution_count": 406,
   "metadata": {},
   "outputs": [
    {
     "data": {
      "text/plain": [
       "26.26002315058403"
      ]
     },
     "execution_count": 406,
     "metadata": {},
     "output_type": "execute_result"
    }
   ],
   "source": [
    "# Percentage of missing value\n",
    "num_cells = np.product(df.shape)\n",
    "num_missing_cells = cols_missing_cells.sum()\n",
    "missing_percent = (num_missing_cells/num_cells)*100\n",
    "missing_percent"
   ]
  },
  {
   "cell_type": "markdown",
   "metadata": {},
   "source": [
    "- It can be seen that the column Street Number Suffix has 98.89% of its data missing. According to the data dictionary, this column relates to address, so the reason for this missing might be the fact that there is not any street number suffix in the address. Similar explanation can be applied to Street Suffix\n"
   ]
  },
  {
   "cell_type": "markdown",
   "metadata": {},
   "source": [
    "- It can be seen that the column Unit has 85.178984 of its data missing. According to the data dictionary, this column provides information about the unit of a building. Because 72.63% of the remaining cells in Unit equal 0, it is reasonable to fill the missing cells with 0."
   ]
  },
  {
   "cell_type": "code",
   "execution_count": 407,
   "metadata": {},
   "outputs": [
    {
     "data": {
      "text/plain": [
       "72.62797245496795"
      ]
     },
     "execution_count": 407,
     "metadata": {},
     "output_type": "execute_result"
    }
   ],
   "source": [
    "# Percentage of Unit = 0 among the remaining cells\n",
    "value_counts = df['Unit'].value_counts()\n",
    "total_rows = df['Unit'].shape[0] - df['Unit'].isnull().sum()\n",
    "percentage_0 = (value_counts[0]/total_rows)*100\n",
    "percentage_0"
   ]
  },
  {
   "cell_type": "markdown",
   "metadata": {},
   "source": [
    "- It can be seen that the column Unit Suffix has 99.01% of its data missing. According to the data dictionary, this column provides information about the suffix if any, for the unit, so it is reasonable for this column to contain many missing cells."
   ]
  },
  {
   "cell_type": "markdown",
   "metadata": {},
   "source": [
    "\n",
    "- It can be seen that the column Description has 0.146% of its data missing. According to the data dictionary, this column provides details about purpose of the permit, so an expanation for the missing cells is an error in data entry. Because the proportion is small, the missing rows should be drop."
   ]
  },
  {
   "cell_type": "code",
   "execution_count": 408,
   "metadata": {},
   "outputs": [],
   "source": [
    "# Drop rows that have Description equals NA\n",
    "df_clean = df.dropna(subset='Description')"
   ]
  },
  {
   "cell_type": "markdown",
   "metadata": {},
   "source": [
    "- It can be seen that the column Issued Date has 7.5% of its data missing. According to the data dictionary, this column provides details about the issued date for the permit. A propbable reason for the missing data is error in data entry. However, because the proportion of missing data is quite significant, we can't drop those missing cells. A proposed solution is to manually look at the hard copy of those permits and fill out the missing data."
   ]
  },
  {
   "cell_type": "markdown",
   "metadata": {},
   "source": [
    "- It can be seen that the column Completed Date has 51.14% of its data missing. According to the data dictionary, this column provides the date on which project was completed, applicable if Current Status = \"complete\". The percentage of cells in Current Status that doesn't equal \"complete\" almost equals to the percentage of missing data in Completed Date. In addition. there isn't any rows that have Current Status equals complete and Completed Date is null. So the missing data is reasonable."
   ]
  },
  {
   "cell_type": "code",
   "execution_count": 409,
   "metadata": {},
   "outputs": [
    {
     "data": {
      "text/plain": [
       "51.19306184012066"
      ]
     },
     "execution_count": 409,
     "metadata": {},
     "output_type": "execute_result"
    }
   ],
   "source": [
    "# Percentage of Current Status that doesn't equal \"complete\"\n",
    "percentage_current_status_complete = (df[df['Current Status']=='complete'].shape[0]/df.shape[0])*100\n",
    "100 - percentage_current_status_complete"
   ]
  },
  {
   "cell_type": "code",
   "execution_count": 410,
   "metadata": {},
   "outputs": [
    {
     "data": {
      "text/plain": [
       "(0, 43)"
      ]
     },
     "execution_count": 410,
     "metadata": {},
     "output_type": "execute_result"
    }
   ],
   "source": [
    "# Number of rows that have Current Status = 'complete' and Completed Date is null\n",
    "df[(df['Current Status'] == 'complete') & (df['Completed Date'].isnull())].shape"
   ]
  },
  {
   "cell_type": "markdown",
   "metadata": {},
   "source": [
    "- It can be seen that the column First Construction Document Date has 7.5% of its data missing. According to the data dictionary, this column provides date on which construction was documented. A reason for these missing data can be the error in data entry. However, because the amount of missing data is significant, we can not remove those rows. A solution is to look at the physical document and manually update the data. "
   ]
  },
  {
   "cell_type": "markdown",
   "metadata": {},
   "source": [
    "- It can be seen that the column Structural Notification has 96.52% of its data missing. According to the data dictionary, this column provides notification to meet some legel need, given or not. In addition, checking the unique values of this column, there are only 2 values: nan and \"Y\". In conclusion, we can fill out nan with \"N\"."
   ]
  },
  {
   "cell_type": "code",
   "execution_count": 411,
   "metadata": {},
   "outputs": [
    {
     "name": "stderr",
     "output_type": "stream",
     "text": [
      "/var/folders/v0/84n2brq13nl0lv8hgw1lgk180000gn/T/ipykernel_16255/914587679.py:2: SettingWithCopyWarning: \n",
      "A value is trying to be set on a copy of a slice from a DataFrame\n",
      "\n",
      "See the caveats in the documentation: https://pandas.pydata.org/pandas-docs/stable/user_guide/indexing.html#returning-a-view-versus-a-copy\n",
      "  df_clean['Structural Notification'].fillna(value=\"N\", inplace=True)\n"
     ]
    }
   ],
   "source": [
    "# Fill out missing value of Structural Notification with \"N\"\n",
    "df_clean['Structural Notification'].fillna(value=\"N\", inplace=True)"
   ]
  },
  {
   "cell_type": "markdown",
   "metadata": {},
   "source": [
    "- It can be seen that the column Number of Existing Stories has 21.51% of its data missing. According to the data dictionary, this column provides the number of existing stories in the building. However, this is not applicable for certain permit types. To be specific, permit types 1, 2 and 5 don't have this attribute. \n",
    "- There are 20.74% of the permit types 3, 4, 6, 7, 8 that have null Number of Existing Stories. This can only be solved by looking at the physical document and manually enter the data.\n",
    "- In addition, there is 1 row of permit types 2 that have Number of Existing Stories. This row should be remove."
   ]
  },
  {
   "cell_type": "code",
   "execution_count": 412,
   "metadata": {},
   "outputs": [
    {
     "data": {
      "text/plain": [
       "20.811965811965813"
      ]
     },
     "execution_count": 412,
     "metadata": {},
     "output_type": "execute_result"
    }
   ],
   "source": [
    "# Percentage of permit type 3, 4, 6, 7 and 8 that have null Number of Existing Stories\n",
    "(df[(df['Number of Existing Stories'].isnull()) & (df['Permit Type'].isin([3, 4, 6, 7, 8]))].shape[0]/df['Permit Type'].isin([3, 4, 6, 7, 8]).shape[0])*100"
   ]
  },
  {
   "cell_type": "code",
   "execution_count": 413,
   "metadata": {},
   "outputs": [
    {
     "name": "stderr",
     "output_type": "stream",
     "text": [
      "/var/folders/v0/84n2brq13nl0lv8hgw1lgk180000gn/T/ipykernel_16255/2635227126.py:2: SettingWithCopyWarning: \n",
      "A value is trying to be set on a copy of a slice from a DataFrame\n",
      "\n",
      "See the caveats in the documentation: https://pandas.pydata.org/pandas-docs/stable/user_guide/indexing.html#returning-a-view-versus-a-copy\n",
      "  df_clean.drop(df_clean[(df_clean['Number of Existing Stories'].notnull()) & (df_clean['Permit Type'].isin([1, 2, 5]))].index, inplace=True)\n"
     ]
    }
   ],
   "source": [
    "# Drop row of permit types 2 that have Number of Existing Stories\n",
    "df_clean.drop(df_clean[(df_clean['Number of Existing Stories'].notnull()) & (df_clean['Permit Type'].isin([1, 2, 5]))].index, inplace=True)"
   ]
  },
  {
   "cell_type": "markdown",
   "metadata": {},
   "source": [
    "- It can be seen that the column Number of Proposed Stories has 21.55% of its data missing. According to the data dictionary, this column provides the number of proposed stories for the construction/alteration. According to the permit, permit types 4, 7, 5, 6 don't have this attribute.\n",
    "- There are 19.42% of the permit types 1, 2, 3, 8 that have null Number of Proposed Stories. This can only be solved by looking at the physical document and manually enter the data "
   ]
  },
  {
   "cell_type": "code",
   "execution_count": 414,
   "metadata": {},
   "outputs": [
    {
     "data": {
      "text/plain": [
       "19.49421820010055"
      ]
     },
     "execution_count": 414,
     "metadata": {},
     "output_type": "execute_result"
    }
   ],
   "source": [
    "# Percentage of permit type 1, 2, 3 and 8 that have null Number of Proposed Stories\n",
    "(df[(df['Number of Proposed Stories'].isnull()) & (df['Permit Type'].isin([1, 2, 3, 8]))].shape[0]/df['Permit Type'].isin([1, 2, 3, 8]).shape[0])*100"
   ]
  },
  {
   "cell_type": "markdown",
   "metadata": {},
   "source": [
    "- It can be seen that the column Voluntary Soft-Story Retrofit has 99.98% of its data missing. According to the data dictionary, this column provides information about soft story to meet earth quake regulations.\n",
    "- The column has only two types of value: \"nan\" and \"Y\". It is reasonable to fill out the \"nan\" value with \"N\""
   ]
  },
  {
   "cell_type": "code",
   "execution_count": 415,
   "metadata": {},
   "outputs": [
    {
     "name": "stderr",
     "output_type": "stream",
     "text": [
      "/var/folders/v0/84n2brq13nl0lv8hgw1lgk180000gn/T/ipykernel_16255/3799486737.py:2: SettingWithCopyWarning: \n",
      "A value is trying to be set on a copy of a slice from a DataFrame\n",
      "\n",
      "See the caveats in the documentation: https://pandas.pydata.org/pandas-docs/stable/user_guide/indexing.html#returning-a-view-versus-a-copy\n",
      "  df_clean['Voluntary Soft-Story Retrofit'].fillna(value=\"N\", inplace=True)\n"
     ]
    }
   ],
   "source": [
    "# Fill out missing value of Voluntary Soft-Story Retrofit with \"N\"\n",
    "df_clean['Voluntary Soft-Story Retrofit'].fillna(value=\"N\", inplace=True)"
   ]
  },
  {
   "cell_type": "markdown",
   "metadata": {},
   "source": [
    "- It can be seen that the column Fire Only Permit has 90.53% of its data missing. According to the data dictionary, this column provides information about fire hazard prevention related permit.\n",
    "- The column has only two types of value: \"nan\" and \"Y\". It is reasonable to fill out the \"nan\" value with \"N\""
   ]
  },
  {
   "cell_type": "code",
   "execution_count": 416,
   "metadata": {},
   "outputs": [
    {
     "name": "stderr",
     "output_type": "stream",
     "text": [
      "/var/folders/v0/84n2brq13nl0lv8hgw1lgk180000gn/T/ipykernel_16255/1487596098.py:2: SettingWithCopyWarning: \n",
      "A value is trying to be set on a copy of a slice from a DataFrame\n",
      "\n",
      "See the caveats in the documentation: https://pandas.pydata.org/pandas-docs/stable/user_guide/indexing.html#returning-a-view-versus-a-copy\n",
      "  df_clean['Fire Only Permit'] = df_clean['Fire Only Permit'].fillna(value=\"N\", inplace=True)\n",
      "/var/folders/v0/84n2brq13nl0lv8hgw1lgk180000gn/T/ipykernel_16255/1487596098.py:2: SettingWithCopyWarning: \n",
      "A value is trying to be set on a copy of a slice from a DataFrame.\n",
      "Try using .loc[row_indexer,col_indexer] = value instead\n",
      "\n",
      "See the caveats in the documentation: https://pandas.pydata.org/pandas-docs/stable/user_guide/indexing.html#returning-a-view-versus-a-copy\n",
      "  df_clean['Fire Only Permit'] = df_clean['Fire Only Permit'].fillna(value=\"N\", inplace=True)\n"
     ]
    }
   ],
   "source": [
    "# Fill out missing value of Fire Only Permit with \"N\"\n",
    "df_clean['Fire Only Permit'] = df_clean['Fire Only Permit'].fillna(value=\"N\", inplace=True)"
   ]
  },
  {
   "cell_type": "markdown",
   "metadata": {},
   "source": [
    "- It can be seen that the column Permit Expiration Date has 26.08% of its data missing. According to the data dictionary, this column provides expiration date related to issued permit.\n",
    "- One explanation for these missing data is error in data entry. A solution for this is to look into the physical document and manually enter the data"
   ]
  },
  {
   "cell_type": "markdown",
   "metadata": {},
   "source": [
    "- It can be seen that the column Estimated Cost has 19.14% of its data missing. According to the data dictionary, this column provides the initial estimation of the cost of the project.\n",
    "- According to the permit, only permit type 6 doesn't have this attribute. However, there are 597 rows of Permit Type = 6 that have not null Estimated Cost. These rows should be dropped. "
   ]
  },
  {
   "cell_type": "code",
   "execution_count": 417,
   "metadata": {},
   "outputs": [
    {
     "name": "stderr",
     "output_type": "stream",
     "text": [
      "/var/folders/v0/84n2brq13nl0lv8hgw1lgk180000gn/T/ipykernel_16255/3523202669.py:2: SettingWithCopyWarning: \n",
      "A value is trying to be set on a copy of a slice from a DataFrame\n",
      "\n",
      "See the caveats in the documentation: https://pandas.pydata.org/pandas-docs/stable/user_guide/indexing.html#returning-a-view-versus-a-copy\n",
      "  df_clean.drop(df_clean[(df_clean['Estimated Cost'].notnull())&(df_clean['Permit Type']==6)].index, inplace=True)\n"
     ]
    }
   ],
   "source": [
    "# Drop rows that have Permit Type = 6 and Estimated Cost is not null\n",
    "df_clean.drop(df_clean[(df_clean['Estimated Cost'].notnull())&(df_clean['Permit Type']==6)].index, inplace=True)"
   ]
  },
  {
   "cell_type": "markdown",
   "metadata": {},
   "source": [
    "- It can be seen that the column Revised Cost has 3.05% of its data missing. According to the data dictionary, this column provides revised estimation of the cost of the project.\n",
    "- According to the permit, permit types 4, 5, 6 and 7 don't have this atrribute. However, 1.7% of these permit types have Revised Cost that are not null. This rows should be dropped.\n",
    "- 2.63% of the permit types 1, 2, 3 and 8 have null Revised Cost. This can be explained by the possibility that the estimated cost is correct."
   ]
  },
  {
   "cell_type": "code",
   "execution_count": 418,
   "metadata": {},
   "outputs": [
    {
     "name": "stderr",
     "output_type": "stream",
     "text": [
      "/var/folders/v0/84n2brq13nl0lv8hgw1lgk180000gn/T/ipykernel_16255/1938071347.py:2: SettingWithCopyWarning: \n",
      "A value is trying to be set on a copy of a slice from a DataFrame\n",
      "\n",
      "See the caveats in the documentation: https://pandas.pydata.org/pandas-docs/stable/user_guide/indexing.html#returning-a-view-versus-a-copy\n",
      "  df_clean.drop(df_clean[(df_clean[\"Revised Cost\"].notnull())&(df_clean[\"Permit Type\"].isin([4, 5, 6, 7]))].index, inplace=True)\n"
     ]
    }
   ],
   "source": [
    "# Drop rows that have Permit Type of 4, 5, 6 or 7 and Revised Cost is not null\n",
    "df_clean.drop(df_clean[(df_clean[\"Revised Cost\"].notnull())&(df_clean[\"Permit Type\"].isin([4, 5, 6, 7]))].index, inplace=True)"
   ]
  },
  {
   "cell_type": "code",
   "execution_count": 419,
   "metadata": {},
   "outputs": [
    {
     "data": {
      "text/plain": [
       "2.679738562091503"
      ]
     },
     "execution_count": 419,
     "metadata": {},
     "output_type": "execute_result"
    }
   ],
   "source": [
    "# Percentage of permit types 1, 2, 3 and 8 have null revised cost\n",
    "(df[(df[\"Revised Cost\"].isnull())&(df[\"Permit Type\"].isin([1, 2, 3, 8]))].shape[0]/df[\"Permit Type\"].isin([1, 2, 3, 8]).shape[0])*100"
   ]
  },
  {
   "cell_type": "markdown",
   "metadata": {},
   "source": [
    "- It can be seen that the column Existing Use has 20.67% of its data missing. According to the data dictionary, this column provides existing use of the building.\n",
    "- According to the permit, permit types 1, 2 and 5 don't have this attribute. However, there is 1 line of permit type 2 has this attribute, this line should be dropped.\n",
    "- There are 19.9% of data among permit types 3, 4, 6, 7 and 8 that have null Existing Use. This might be the result of error in data entry. A solution for this is to look at the physical permit and manually enter the data  "
   ]
  },
  {
   "cell_type": "code",
   "execution_count": 420,
   "metadata": {},
   "outputs": [
    {
     "name": "stderr",
     "output_type": "stream",
     "text": [
      "/var/folders/v0/84n2brq13nl0lv8hgw1lgk180000gn/T/ipykernel_16255/2302710219.py:2: SettingWithCopyWarning: \n",
      "A value is trying to be set on a copy of a slice from a DataFrame\n",
      "\n",
      "See the caveats in the documentation: https://pandas.pydata.org/pandas-docs/stable/user_guide/indexing.html#returning-a-view-versus-a-copy\n",
      "  df_clean.drop(df_clean[(df_clean['Existing Use'].notnull())&(df_clean['Permit Type'].isin([1, 2, 5]))].index, inplace=True)\n"
     ]
    }
   ],
   "source": [
    "# Drop row that has permit type 2 and Existing Use is not null\n",
    "df_clean.drop(df_clean[(df_clean['Existing Use'].notnull())&(df_clean['Permit Type'].isin([1, 2, 5]))].index, inplace=True)"
   ]
  },
  {
   "cell_type": "code",
   "execution_count": 421,
   "metadata": {},
   "outputs": [
    {
     "data": {
      "text/plain": [
       "19.972347913524384"
      ]
     },
     "execution_count": 421,
     "metadata": {},
     "output_type": "execute_result"
    }
   ],
   "source": [
    "# Percentage of data among permit types 3, 4, 6, 7 and 8 that have null Existing Use.\n",
    "(df[(df['Existing Use'].isnull())&(df['Permit Type'].isin([3, 4, 6, 7, 8]))].shape[0]/df['Permit Type'].isin([3, 4, 6, 7, 8]).shape[0])*100"
   ]
  },
  {
   "cell_type": "markdown",
   "metadata": {},
   "source": [
    "- It can be seen that column Existing Units has 25.9% of its data missing. According to the data dictionary, this column provides existing number of units.\n",
    "- According to the permit, permit types 3, 8 and 6 have this attribute. There are 24.43% of these permits that have null Existing Units. An explanation for these missing data is error in data entry. A solution for this is to look at the physical permit and manually fill in the data.\n",
    "- There are 0.99% of the permit types 1, 2, 4, 5 and 7 have Existing Units that is not null. This rows should be dropped."
   ]
  },
  {
   "cell_type": "code",
   "execution_count": 422,
   "metadata": {},
   "outputs": [
    {
     "data": {
      "text/plain": [
       "24.491201608848666"
      ]
     },
     "execution_count": 422,
     "metadata": {},
     "output_type": "execute_result"
    }
   ],
   "source": [
    "# Percentage of permit types 3, 8 and 6 that have null Existing Units\n",
    "(df[(df['Permit Type'].isin([3, 8, 6]))&(df['Existing Units'].isnull())].shape[0]/df['Permit Type'].isin([1, 2, 4, 5, 7]).shape[0])*100"
   ]
  },
  {
   "cell_type": "code",
   "execution_count": 423,
   "metadata": {},
   "outputs": [
    {
     "name": "stderr",
     "output_type": "stream",
     "text": [
      "/var/folders/v0/84n2brq13nl0lv8hgw1lgk180000gn/T/ipykernel_16255/127393321.py:2: SettingWithCopyWarning: \n",
      "A value is trying to be set on a copy of a slice from a DataFrame\n",
      "\n",
      "See the caveats in the documentation: https://pandas.pydata.org/pandas-docs/stable/user_guide/indexing.html#returning-a-view-versus-a-copy\n",
      "  df_clean.drop(df_clean[(df_clean['Permit Type'].isin([1, 2, 4, 5, 7]))&(df_clean['Existing Units'].notnull())].index, inplace=True)\n"
     ]
    }
   ],
   "source": [
    "# Drop rows of permit types 1, 2, 4, 5 and 7 that have not null Existing Units\n",
    "df_clean.drop(df_clean[(df_clean['Permit Type'].isin([1, 2, 4, 5, 7]))&(df_clean['Existing Units'].notnull())].index, inplace=True)"
   ]
  },
  {
   "cell_type": "markdown",
   "metadata": {},
   "source": [
    "- It can be seen that column Proposed Use has 21.34% of its data missing. According to the data dictionary, this column provides proposed use of the building.\n",
    "- According to the permit, permit types 3, 8, 4 and 7 have this attribute. However, 20.91% of these permits have null values. A reason for these missing data is error in data entry.\n",
    "- There are 0.65% of permit types 1, 2, 5 and 6 have Proposed Use that is not null. This rows should be removed   "
   ]
  },
  {
   "cell_type": "code",
   "execution_count": 424,
   "metadata": {},
   "outputs": [
    {
     "data": {
      "text/plain": [
       "20.986928104575163"
      ]
     },
     "execution_count": 424,
     "metadata": {},
     "output_type": "execute_result"
    }
   ],
   "source": [
    "# Percentage of permit types 3, 8, 4 and 7 that have null Proposed Use\n",
    "(df[(df[\"Permit Type\"].isin([3, 8, 4, 7])) & (df[\"Proposed Use\"].isnull())].shape[0]/df[\"Permit Type\"].isin([3, 8, 4, 7]).shape[0])*100"
   ]
  },
  {
   "cell_type": "code",
   "execution_count": 425,
   "metadata": {},
   "outputs": [
    {
     "name": "stderr",
     "output_type": "stream",
     "text": [
      "/var/folders/v0/84n2brq13nl0lv8hgw1lgk180000gn/T/ipykernel_16255/660126627.py:2: SettingWithCopyWarning: \n",
      "A value is trying to be set on a copy of a slice from a DataFrame\n",
      "\n",
      "See the caveats in the documentation: https://pandas.pydata.org/pandas-docs/stable/user_guide/indexing.html#returning-a-view-versus-a-copy\n",
      "  df_clean.drop(df_clean[(df_clean['Permit Type'].isin([1, 2, 5, 6])) & (df_clean[\"Proposed Use\"].notnull())].index, inplace=True)\n"
     ]
    }
   ],
   "source": [
    "# Remove rows of permit types 1, 2, 5 and 6 that have Proposed Use that is not null\n",
    "df_clean.drop(df_clean[(df_clean['Permit Type'].isin([1, 2, 5, 6])) & (df_clean[\"Proposed Use\"].notnull())].index, inplace=True)"
   ]
  },
  {
   "cell_type": "markdown",
   "metadata": {},
   "source": [
    "- It can be seen that column Proposed Units has 25.59% of its data missing. According to the data dictionary, this column provides proposed number of units.\n",
    "- According to the permit, permit types 4, 5 and 7 don't have this attribute\n",
    "- 23.47% of permit types 1, 2, 3 and 8 have null Proposed Units. A reason for these missing data is error in data entry. A solution for this is to look at the physical permit and manually fill in the data."
   ]
  },
  {
   "cell_type": "code",
   "execution_count": 426,
   "metadata": {},
   "outputs": [
    {
     "data": {
      "text/plain": [
       "23.53795877325289"
      ]
     },
     "execution_count": 426,
     "metadata": {},
     "output_type": "execute_result"
    }
   ],
   "source": [
    "# Percentage of Permit Type 1, 2, 3 and 8 that have null Proposed Units\n",
    "(df[(df['Permit Type'].isin([1, 2, 3, 8])) & (df['Proposed Units'].isnull())].shape[0]/df['Permit Type'].isin([1, 2, 3, 8]).shape[0])*100"
   ]
  },
  {
   "cell_type": "markdown",
   "metadata": {},
   "source": [
    "- It can be seen that column Plansets has 18.76% of its data missing. According to the data dictionary, this column provides plan representation indicating the general design intent of the foundation.\n",
    "- A reason for these missing data might be error in data entry. A solution for this is to look at the physical document and manually fill in the data"
   ]
  },
  {
   "cell_type": "markdown",
   "metadata": {},
   "source": [
    "- It can be seen that column TIDF Compliance has 99.999% of its data missing. According to the data dictionary, this column provides TIDF (a new legal requirement) compliant or not.\n",
    "- Based on the data dictionary, this column should contains only 2 kinds of values: \"Y\" and \"N\". However, there is 1 line contains \"P\". In conclusion, null values should be replace by \"N\" and the \"P\" line should be dropped"
   ]
  },
  {
   "cell_type": "code",
   "execution_count": 427,
   "metadata": {},
   "outputs": [
    {
     "name": "stderr",
     "output_type": "stream",
     "text": [
      "/var/folders/v0/84n2brq13nl0lv8hgw1lgk180000gn/T/ipykernel_16255/1150433860.py:2: SettingWithCopyWarning: \n",
      "A value is trying to be set on a copy of a slice from a DataFrame\n",
      "\n",
      "See the caveats in the documentation: https://pandas.pydata.org/pandas-docs/stable/user_guide/indexing.html#returning-a-view-versus-a-copy\n",
      "  df_clean['TIDF Compliance'] = df_clean['TIDF Compliance'].fillna(value=\"N\", inplace=True)\n",
      "/var/folders/v0/84n2brq13nl0lv8hgw1lgk180000gn/T/ipykernel_16255/1150433860.py:2: SettingWithCopyWarning: \n",
      "A value is trying to be set on a copy of a slice from a DataFrame.\n",
      "Try using .loc[row_indexer,col_indexer] = value instead\n",
      "\n",
      "See the caveats in the documentation: https://pandas.pydata.org/pandas-docs/stable/user_guide/indexing.html#returning-a-view-versus-a-copy\n",
      "  df_clean['TIDF Compliance'] = df_clean['TIDF Compliance'].fillna(value=\"N\", inplace=True)\n"
     ]
    }
   ],
   "source": [
    "# Replace null values in TIDF Compliance with \"N\"\n",
    "df_clean['TIDF Compliance'] = df_clean['TIDF Compliance'].fillna(value=\"N\", inplace=True)"
   ]
  },
  {
   "cell_type": "code",
   "execution_count": 428,
   "metadata": {},
   "outputs": [
    {
     "name": "stderr",
     "output_type": "stream",
     "text": [
      "/var/folders/v0/84n2brq13nl0lv8hgw1lgk180000gn/T/ipykernel_16255/2728994270.py:2: SettingWithCopyWarning: \n",
      "A value is trying to be set on a copy of a slice from a DataFrame\n",
      "\n",
      "See the caveats in the documentation: https://pandas.pydata.org/pandas-docs/stable/user_guide/indexing.html#returning-a-view-versus-a-copy\n",
      "  df_clean.drop(df_clean[df_clean['TIDF Compliance']==\"P\"].index, inplace=True)\n"
     ]
    }
   ],
   "source": [
    "# Drop row that have TIDF Compliance = \"P\"\n",
    "df_clean.drop(df_clean[df_clean['TIDF Compliance']==\"P\"].index, inplace=True)"
   ]
  },
  {
   "cell_type": "markdown",
   "metadata": {},
   "source": [
    "- It can be seen that column Existing Construction Type has 21.8% of its data missing. According to the data dictionary, this column provides construction type, existing as categories represented numerically\n",
    "- According to the permit, permit types 1, 2 and 5 don't have this attribute. However, there is one record of permit type 2 that has this attribute. This row should be removed.\n",
    "- There are 21.03% of permit types 3, 4, 5, 7 and 8 have null Existing Construction Type. The reason for these missing data might be data entry error. One solution is to look at the physical permit and manually enter the data."
   ]
  },
  {
   "cell_type": "code",
   "execution_count": 429,
   "metadata": {},
   "outputs": [
    {
     "name": "stderr",
     "output_type": "stream",
     "text": [
      "/var/folders/v0/84n2brq13nl0lv8hgw1lgk180000gn/T/ipykernel_16255/3926778825.py:2: SettingWithCopyWarning: \n",
      "A value is trying to be set on a copy of a slice from a DataFrame\n",
      "\n",
      "See the caveats in the documentation: https://pandas.pydata.org/pandas-docs/stable/user_guide/indexing.html#returning-a-view-versus-a-copy\n",
      "  df_clean.drop(df_clean[(df_clean['Permit Type'].isin([1, 2, 5])) & (df_clean['Existing Construction Type'].notnull())].index, inplace=True)\n"
     ]
    }
   ],
   "source": [
    "# Drop row that have Permit Type 2 and not null Existing Construction Type\n",
    "df_clean.drop(df_clean[(df_clean['Permit Type'].isin([1, 2, 5])) & (df_clean['Existing Construction Type'].notnull())].index, inplace=True)"
   ]
  },
  {
   "cell_type": "code",
   "execution_count": 430,
   "metadata": {},
   "outputs": [
    {
     "data": {
      "text/plain": [
       "21.104575163398692"
      ]
     },
     "execution_count": 430,
     "metadata": {},
     "output_type": "execute_result"
    }
   ],
   "source": [
    "# Percentage of Permit Type 3, 4, 6, 7 and 8 that have null Existing Construction Type\n",
    "(df[(df['Permit Type'].isin([3, 4, 6, 7, 8])) & (df['Existing Construction Type'].isnull())].shape[0]/df['Permit Type'].isin([3, 4, 6, 7, 8]).shape[0])*100"
   ]
  },
  {
   "cell_type": "markdown",
   "metadata": {},
   "source": [
    "- It can be seen that column Existing Construction Type Description has 21.8% of its data missing. According to the data dictionary, this column provides description of the above, for example, \n",
    "wood or other construction types.\n",
    "- The percentage of missing data in Existing Construction Type Description matches the percentage of missing data in Existing Construction Type. In addition, the value counts of both attributes are the same.\n",
    "- In conclusion, when we clean Existing Construction Type, we have simultaneously cleaned Existing Construction Type Description"
   ]
  },
  {
   "cell_type": "code",
   "execution_count": 431,
   "metadata": {},
   "outputs": [
    {
     "data": {
      "text/plain": [
       "wood frame (5)    113350\n",
       "constr type 1      28072\n",
       "constr type 3       9663\n",
       "constr type 2       4068\n",
       "constr type 4        381\n",
       "Name: Existing Construction Type Description, dtype: int64"
      ]
     },
     "execution_count": 431,
     "metadata": {},
     "output_type": "execute_result"
    }
   ],
   "source": [
    "# Value counts of Existing Construction Type Description\n",
    "df[\"Existing Construction Type Description\"].value_counts()"
   ]
  },
  {
   "cell_type": "code",
   "execution_count": 432,
   "metadata": {},
   "outputs": [
    {
     "data": {
      "text/plain": [
       "5.0    113350\n",
       "1.0     28072\n",
       "3.0      9663\n",
       "2.0      4068\n",
       "4.0       381\n",
       "Name: Existing Construction Type, dtype: int64"
      ]
     },
     "execution_count": 432,
     "metadata": {},
     "output_type": "execute_result"
    }
   ],
   "source": [
    "# Value counts of Existing Construction Type\n",
    "df[\"Existing Construction Type\"].value_counts()"
   ]
  },
  {
   "cell_type": "markdown",
   "metadata": {},
   "source": [
    "- It can be seen that column Proposed Construction Type has 21.7% of its data missing. According to the data dictionary, this column provides information about construction type, proposed, as categories\n",
    "represented numerically.\n",
    "- According to the permit, only permit types 3 and 8 have this attribute. However, 19.57% of these permits have null Proposed Construction Type. One explanation for these missing data is error in data entry. A solution for this is to look at the physical permit and manually enter the data.\n",
    "- 1289 rows or 0.06% of permit types 1, 2, 4, 5, 6 and 7 have Proposed Construction Type that is not null. These rows should be removed."
   ]
  },
  {
   "cell_type": "code",
   "execution_count": 433,
   "metadata": {},
   "outputs": [
    {
     "data": {
      "text/plain": [
       "19.638511814982405"
      ]
     },
     "execution_count": 433,
     "metadata": {},
     "output_type": "execute_result"
    }
   ],
   "source": [
    "# Percentage of Permit Types 3 and 8 that have null Proposed Construction Type\n",
    "(df[(df[\"Proposed Construction Type\"].isnull()) & (df[\"Permit Type\"].isin([3, 8]))].shape[0]/df[\"Permit Type\"].isin([3, 8]).shape[0])*100"
   ]
  },
  {
   "cell_type": "code",
   "execution_count": 434,
   "metadata": {},
   "outputs": [
    {
     "name": "stderr",
     "output_type": "stream",
     "text": [
      "/var/folders/v0/84n2brq13nl0lv8hgw1lgk180000gn/T/ipykernel_16255/2973280872.py:2: SettingWithCopyWarning: \n",
      "A value is trying to be set on a copy of a slice from a DataFrame\n",
      "\n",
      "See the caveats in the documentation: https://pandas.pydata.org/pandas-docs/stable/user_guide/indexing.html#returning-a-view-versus-a-copy\n",
      "  df_clean.drop(df_clean[(df_clean[\"Proposed Construction Type\"].notnull()) & (df_clean[\"Permit Type\"].isin([1, 2, 4, 5, 6, 7]))].index, inplace=True)\n"
     ]
    }
   ],
   "source": [
    "# Drop rows of Permit Types 1, 2, 4, 5, 6 and 7 that have not null Proposed Construction Type\n",
    "df_clean.drop(df_clean[(df_clean[\"Proposed Construction Type\"].notnull()) & (df_clean[\"Permit Type\"].isin([1, 2, 4, 5, 6, 7]))].index, inplace=True)"
   ]
  },
  {
   "cell_type": "markdown",
   "metadata": {},
   "source": [
    "- It can be seen that column Proposed Construction Type Description has 21.7% of its data missing. According to the data dictionary, this column provides description of the above\n",
    "- The percentage of missing data in Proposed Construction Type Description matches the percentage of missing data in Proposed Construction Type. In addition, the value counts of both attributes are the same.\n",
    "- In conclusion, when we clean Proposed Construction Type, we have simultaneously cleaned Proposed Construction Type Description"
   ]
  },
  {
   "cell_type": "code",
   "execution_count": 435,
   "metadata": {},
   "outputs": [
    {
     "data": {
      "text/plain": [
       "5.0    114382\n",
       "1.0     27841\n",
       "3.0      9360\n",
       "2.0      3778\n",
       "4.0       377\n",
       "Name: Proposed Construction Type, dtype: int64"
      ]
     },
     "execution_count": 435,
     "metadata": {},
     "output_type": "execute_result"
    }
   ],
   "source": [
    "# Value counts of Proposed Construction Type\n",
    "df[\"Proposed Construction Type\"].value_counts()"
   ]
  },
  {
   "cell_type": "code",
   "execution_count": 436,
   "metadata": {},
   "outputs": [
    {
     "data": {
      "text/plain": [
       "wood frame (5)    114382\n",
       "constr type 1      27841\n",
       "constr type 3       9360\n",
       "constr type 2       3778\n",
       "constr type 4        377\n",
       "Name: Proposed Construction Type Description, dtype: int64"
      ]
     },
     "execution_count": 436,
     "metadata": {},
     "output_type": "execute_result"
    }
   ],
   "source": [
    "# Value counts of Proposed Construction Type Description\n",
    "df[\"Proposed Construction Type Description\"].value_counts()"
   ]
  },
  {
   "cell_type": "markdown",
   "metadata": {},
   "source": [
    "- It can be seen that column Site Permit has 97.3% of its data missing. According to the data dictionary, this column provides information about permit for site.\n",
    "- Because this column only contains 2 types of values: \"nan\" and \"Y\", it is reasonable to repllace \"nan\" with \"N\""
   ]
  },
  {
   "cell_type": "code",
   "execution_count": 437,
   "metadata": {},
   "outputs": [
    {
     "name": "stderr",
     "output_type": "stream",
     "text": [
      "/var/folders/v0/84n2brq13nl0lv8hgw1lgk180000gn/T/ipykernel_16255/2722913401.py:2: SettingWithCopyWarning: \n",
      "A value is trying to be set on a copy of a slice from a DataFrame\n",
      "\n",
      "See the caveats in the documentation: https://pandas.pydata.org/pandas-docs/stable/user_guide/indexing.html#returning-a-view-versus-a-copy\n",
      "  df_clean[\"Site Permit\"].fillna(\"N\", inplace = True)\n"
     ]
    }
   ],
   "source": [
    "# Replace null values of Site Permit with \"N\"\n",
    "df_clean[\"Site Permit\"].fillna(\"N\", inplace = True)"
   ]
  },
  {
   "cell_type": "markdown",
   "metadata": {},
   "source": [
    "- It can be seen that the column Neighborhoods - Analysis Boundaries has 0.87% of its data missing. According to the data dictionary, this column provides neighborhood to which the building location belongs to.\n",
    "- This information has a direct link to the zip code, so we can use the zip code to fill in the missing data.\n",
    "- There are 10 rows that have missing Neighborhoods - Analysis Boundaries but not null Zipcode.\n",
    "- We fill in the missing data with the most frequent Neighborhoods - Analysis Boundaries value of the respective Zipcode.\n",
    "- Because the amount of missing data is not substantial, drop the remaining missing rows"
   ]
  },
  {
   "cell_type": "code",
   "execution_count": 438,
   "metadata": {},
   "outputs": [
    {
     "data": {
      "text/html": [
       "<div>\n",
       "<style scoped>\n",
       "    .dataframe tbody tr th:only-of-type {\n",
       "        vertical-align: middle;\n",
       "    }\n",
       "\n",
       "    .dataframe tbody tr th {\n",
       "        vertical-align: top;\n",
       "    }\n",
       "\n",
       "    .dataframe thead th {\n",
       "        text-align: right;\n",
       "    }\n",
       "</style>\n",
       "<table border=\"1\" class=\"dataframe\">\n",
       "  <thead>\n",
       "    <tr style=\"text-align: right;\">\n",
       "      <th></th>\n",
       "      <th>Permit Number</th>\n",
       "      <th>Permit Type</th>\n",
       "      <th>Permit Type Definition</th>\n",
       "      <th>Permit Creation Date</th>\n",
       "      <th>Block</th>\n",
       "      <th>Lot</th>\n",
       "      <th>Street Number</th>\n",
       "      <th>Street Number Suffix</th>\n",
       "      <th>Street Name</th>\n",
       "      <th>Street Suffix</th>\n",
       "      <th>...</th>\n",
       "      <th>Existing Construction Type</th>\n",
       "      <th>Existing Construction Type Description</th>\n",
       "      <th>Proposed Construction Type</th>\n",
       "      <th>Proposed Construction Type Description</th>\n",
       "      <th>Site Permit</th>\n",
       "      <th>Supervisor District</th>\n",
       "      <th>Neighborhoods - Analysis Boundaries</th>\n",
       "      <th>Zipcode</th>\n",
       "      <th>Location</th>\n",
       "      <th>Record ID</th>\n",
       "    </tr>\n",
       "  </thead>\n",
       "  <tbody>\n",
       "    <tr>\n",
       "      <th>73628</th>\n",
       "      <td>201501236544</td>\n",
       "      <td>8</td>\n",
       "      <td>otc alterations permit</td>\n",
       "      <td>01/23/2015</td>\n",
       "      <td>6493</td>\n",
       "      <td>033</td>\n",
       "      <td>7</td>\n",
       "      <td>NaN</td>\n",
       "      <td>Lincoln</td>\n",
       "      <td>Ct</td>\n",
       "      <td>...</td>\n",
       "      <td>5.0</td>\n",
       "      <td>wood frame (5)</td>\n",
       "      <td>5.0</td>\n",
       "      <td>wood frame (5)</td>\n",
       "      <td>NaN</td>\n",
       "      <td>11.0</td>\n",
       "      <td>NaN</td>\n",
       "      <td>94112.0</td>\n",
       "      <td>(37.708255336721685, -122.44291501224802)</td>\n",
       "      <td>1368763502711</td>\n",
       "    </tr>\n",
       "    <tr>\n",
       "      <th>95269</th>\n",
       "      <td>201508124091</td>\n",
       "      <td>8</td>\n",
       "      <td>otc alterations permit</td>\n",
       "      <td>08/12/2015</td>\n",
       "      <td>6493</td>\n",
       "      <td>033</td>\n",
       "      <td>7</td>\n",
       "      <td>NaN</td>\n",
       "      <td>Lincoln</td>\n",
       "      <td>Ct</td>\n",
       "      <td>...</td>\n",
       "      <td>5.0</td>\n",
       "      <td>wood frame (5)</td>\n",
       "      <td>5.0</td>\n",
       "      <td>wood frame (5)</td>\n",
       "      <td>NaN</td>\n",
       "      <td>11.0</td>\n",
       "      <td>NaN</td>\n",
       "      <td>94112.0</td>\n",
       "      <td>(37.708255336721685, -122.44291501224802)</td>\n",
       "      <td>1391862502711</td>\n",
       "    </tr>\n",
       "    <tr>\n",
       "      <th>109210</th>\n",
       "      <td>201512165304</td>\n",
       "      <td>8</td>\n",
       "      <td>otc alterations permit</td>\n",
       "      <td>12/16/2015</td>\n",
       "      <td>6499</td>\n",
       "      <td>038</td>\n",
       "      <td>305</td>\n",
       "      <td>NaN</td>\n",
       "      <td>Baltimore</td>\n",
       "      <td>Wy</td>\n",
       "      <td>...</td>\n",
       "      <td>5.0</td>\n",
       "      <td>wood frame (5)</td>\n",
       "      <td>5.0</td>\n",
       "      <td>wood frame (5)</td>\n",
       "      <td>NaN</td>\n",
       "      <td>11.0</td>\n",
       "      <td>NaN</td>\n",
       "      <td>94112.0</td>\n",
       "      <td>(37.70826637942377, -122.43729680833803)</td>\n",
       "      <td>1406807205186</td>\n",
       "    </tr>\n",
       "    <tr>\n",
       "      <th>111291</th>\n",
       "      <td>201601137013</td>\n",
       "      <td>8</td>\n",
       "      <td>otc alterations permit</td>\n",
       "      <td>01/13/2016</td>\n",
       "      <td>7283</td>\n",
       "      <td>004</td>\n",
       "      <td>207</td>\n",
       "      <td>NaN</td>\n",
       "      <td>Skyline</td>\n",
       "      <td>Bl</td>\n",
       "      <td>...</td>\n",
       "      <td>5.0</td>\n",
       "      <td>wood frame (5)</td>\n",
       "      <td>5.0</td>\n",
       "      <td>wood frame (5)</td>\n",
       "      <td>NaN</td>\n",
       "      <td>7.0</td>\n",
       "      <td>NaN</td>\n",
       "      <td>94132.0</td>\n",
       "      <td>(37.71993360931114, -122.4934839342649)</td>\n",
       "      <td>1409101498824</td>\n",
       "    </tr>\n",
       "    <tr>\n",
       "      <th>153084</th>\n",
       "      <td>201703282504</td>\n",
       "      <td>8</td>\n",
       "      <td>otc alterations permit</td>\n",
       "      <td>03/28/2017</td>\n",
       "      <td>7283</td>\n",
       "      <td>004</td>\n",
       "      <td>991</td>\n",
       "      <td>NaN</td>\n",
       "      <td>Lake Merced</td>\n",
       "      <td>Bl</td>\n",
       "      <td>...</td>\n",
       "      <td>NaN</td>\n",
       "      <td>NaN</td>\n",
       "      <td>NaN</td>\n",
       "      <td>NaN</td>\n",
       "      <td>NaN</td>\n",
       "      <td>7.0</td>\n",
       "      <td>NaN</td>\n",
       "      <td>94132.0</td>\n",
       "      <td>(37.71993360931114, -122.4934839342649)</td>\n",
       "      <td>1457580471826</td>\n",
       "    </tr>\n",
       "    <tr>\n",
       "      <th>155263</th>\n",
       "      <td>201704244705</td>\n",
       "      <td>8</td>\n",
       "      <td>otc alterations permit</td>\n",
       "      <td>04/24/2017</td>\n",
       "      <td>6432</td>\n",
       "      <td>018</td>\n",
       "      <td>88</td>\n",
       "      <td>NaN</td>\n",
       "      <td>Robinson</td>\n",
       "      <td>Dr</td>\n",
       "      <td>...</td>\n",
       "      <td>5.0</td>\n",
       "      <td>wood frame (5)</td>\n",
       "      <td>5.0</td>\n",
       "      <td>wood frame (5)</td>\n",
       "      <td>NaN</td>\n",
       "      <td>NaN</td>\n",
       "      <td>NaN</td>\n",
       "      <td>94112.0</td>\n",
       "      <td>(37.7083761736833, -122.42802141182385)</td>\n",
       "      <td>1460557203010</td>\n",
       "    </tr>\n",
       "    <tr>\n",
       "      <th>162451</th>\n",
       "      <td>201707121664</td>\n",
       "      <td>8</td>\n",
       "      <td>otc alterations permit</td>\n",
       "      <td>07/12/2017</td>\n",
       "      <td>7283</td>\n",
       "      <td>004</td>\n",
       "      <td>207</td>\n",
       "      <td>NaN</td>\n",
       "      <td>Skyline</td>\n",
       "      <td>Bl</td>\n",
       "      <td>...</td>\n",
       "      <td>5.0</td>\n",
       "      <td>wood frame (5)</td>\n",
       "      <td>5.0</td>\n",
       "      <td>wood frame (5)</td>\n",
       "      <td>NaN</td>\n",
       "      <td>7.0</td>\n",
       "      <td>NaN</td>\n",
       "      <td>94132.0</td>\n",
       "      <td>(37.71993360931114, -122.4934839342649)</td>\n",
       "      <td>1470213498824</td>\n",
       "    </tr>\n",
       "    <tr>\n",
       "      <th>175513</th>\n",
       "      <td>201703222121</td>\n",
       "      <td>8</td>\n",
       "      <td>otc alterations permit</td>\n",
       "      <td>03/22/2017</td>\n",
       "      <td>7283</td>\n",
       "      <td>004</td>\n",
       "      <td>1</td>\n",
       "      <td>NaN</td>\n",
       "      <td>Harding</td>\n",
       "      <td>Rd</td>\n",
       "      <td>...</td>\n",
       "      <td>NaN</td>\n",
       "      <td>NaN</td>\n",
       "      <td>NaN</td>\n",
       "      <td>NaN</td>\n",
       "      <td>NaN</td>\n",
       "      <td>7.0</td>\n",
       "      <td>NaN</td>\n",
       "      <td>94132.0</td>\n",
       "      <td>(37.71993360931114, -122.4934839342649)</td>\n",
       "      <td>1457075504092</td>\n",
       "    </tr>\n",
       "    <tr>\n",
       "      <th>177006</th>\n",
       "      <td>201706078660</td>\n",
       "      <td>8</td>\n",
       "      <td>otc alterations permit</td>\n",
       "      <td>06/07/2017</td>\n",
       "      <td>7381</td>\n",
       "      <td>041</td>\n",
       "      <td>143</td>\n",
       "      <td>NaN</td>\n",
       "      <td>Lake Merced Hill St South</td>\n",
       "      <td>St</td>\n",
       "      <td>...</td>\n",
       "      <td>5.0</td>\n",
       "      <td>wood frame (5)</td>\n",
       "      <td>5.0</td>\n",
       "      <td>wood frame (5)</td>\n",
       "      <td>NaN</td>\n",
       "      <td>NaN</td>\n",
       "      <td>NaN</td>\n",
       "      <td>94132.0</td>\n",
       "      <td>(37.70829338744119, -122.48350972345418)</td>\n",
       "      <td>1466000492201</td>\n",
       "    </tr>\n",
       "    <tr>\n",
       "      <th>186364</th>\n",
       "      <td>201710191639</td>\n",
       "      <td>8</td>\n",
       "      <td>otc alterations permit</td>\n",
       "      <td>10/19/2017</td>\n",
       "      <td>6498</td>\n",
       "      <td>012</td>\n",
       "      <td>321</td>\n",
       "      <td>NaN</td>\n",
       "      <td>Polaris</td>\n",
       "      <td>Wy</td>\n",
       "      <td>...</td>\n",
       "      <td>5.0</td>\n",
       "      <td>wood frame (5)</td>\n",
       "      <td>5.0</td>\n",
       "      <td>wood frame (5)</td>\n",
       "      <td>NaN</td>\n",
       "      <td>NaN</td>\n",
       "      <td>NaN</td>\n",
       "      <td>94112.0</td>\n",
       "      <td>(37.708277723752225, -122.43921944248987)</td>\n",
       "      <td>1483904205147</td>\n",
       "    </tr>\n",
       "  </tbody>\n",
       "</table>\n",
       "<p>10 rows × 43 columns</p>\n",
       "</div>"
      ],
      "text/plain": [
       "       Permit Number  Permit Type  Permit Type Definition  \\\n",
       "73628   201501236544            8  otc alterations permit   \n",
       "95269   201508124091            8  otc alterations permit   \n",
       "109210  201512165304            8  otc alterations permit   \n",
       "111291  201601137013            8  otc alterations permit   \n",
       "153084  201703282504            8  otc alterations permit   \n",
       "155263  201704244705            8  otc alterations permit   \n",
       "162451  201707121664            8  otc alterations permit   \n",
       "175513  201703222121            8  otc alterations permit   \n",
       "177006  201706078660            8  otc alterations permit   \n",
       "186364  201710191639            8  otc alterations permit   \n",
       "\n",
       "       Permit Creation Date Block  Lot  Street Number Street Number Suffix  \\\n",
       "73628            01/23/2015  6493  033              7                  NaN   \n",
       "95269            08/12/2015  6493  033              7                  NaN   \n",
       "109210           12/16/2015  6499  038            305                  NaN   \n",
       "111291           01/13/2016  7283  004            207                  NaN   \n",
       "153084           03/28/2017  7283  004            991                  NaN   \n",
       "155263           04/24/2017  6432  018             88                  NaN   \n",
       "162451           07/12/2017  7283  004            207                  NaN   \n",
       "175513           03/22/2017  7283  004              1                  NaN   \n",
       "177006           06/07/2017  7381  041            143                  NaN   \n",
       "186364           10/19/2017  6498  012            321                  NaN   \n",
       "\n",
       "                      Street Name Street Suffix  ...  \\\n",
       "73628                     Lincoln            Ct  ...   \n",
       "95269                     Lincoln            Ct  ...   \n",
       "109210                  Baltimore            Wy  ...   \n",
       "111291                    Skyline            Bl  ...   \n",
       "153084                Lake Merced            Bl  ...   \n",
       "155263                   Robinson            Dr  ...   \n",
       "162451                    Skyline            Bl  ...   \n",
       "175513                    Harding            Rd  ...   \n",
       "177006  Lake Merced Hill St South            St  ...   \n",
       "186364                    Polaris            Wy  ...   \n",
       "\n",
       "        Existing Construction Type Existing Construction Type Description  \\\n",
       "73628                          5.0                         wood frame (5)   \n",
       "95269                          5.0                         wood frame (5)   \n",
       "109210                         5.0                         wood frame (5)   \n",
       "111291                         5.0                         wood frame (5)   \n",
       "153084                         NaN                                    NaN   \n",
       "155263                         5.0                         wood frame (5)   \n",
       "162451                         5.0                         wood frame (5)   \n",
       "175513                         NaN                                    NaN   \n",
       "177006                         5.0                         wood frame (5)   \n",
       "186364                         5.0                         wood frame (5)   \n",
       "\n",
       "       Proposed Construction Type Proposed Construction Type Description  \\\n",
       "73628                         5.0                         wood frame (5)   \n",
       "95269                         5.0                         wood frame (5)   \n",
       "109210                        5.0                         wood frame (5)   \n",
       "111291                        5.0                         wood frame (5)   \n",
       "153084                        NaN                                    NaN   \n",
       "155263                        5.0                         wood frame (5)   \n",
       "162451                        5.0                         wood frame (5)   \n",
       "175513                        NaN                                    NaN   \n",
       "177006                        5.0                         wood frame (5)   \n",
       "186364                        5.0                         wood frame (5)   \n",
       "\n",
       "       Site Permit Supervisor District Neighborhoods - Analysis Boundaries  \\\n",
       "73628          NaN                11.0                                 NaN   \n",
       "95269          NaN                11.0                                 NaN   \n",
       "109210         NaN                11.0                                 NaN   \n",
       "111291         NaN                 7.0                                 NaN   \n",
       "153084         NaN                 7.0                                 NaN   \n",
       "155263         NaN                 NaN                                 NaN   \n",
       "162451         NaN                 7.0                                 NaN   \n",
       "175513         NaN                 7.0                                 NaN   \n",
       "177006         NaN                 NaN                                 NaN   \n",
       "186364         NaN                 NaN                                 NaN   \n",
       "\n",
       "        Zipcode                                   Location      Record ID  \n",
       "73628   94112.0  (37.708255336721685, -122.44291501224802)  1368763502711  \n",
       "95269   94112.0  (37.708255336721685, -122.44291501224802)  1391862502711  \n",
       "109210  94112.0   (37.70826637942377, -122.43729680833803)  1406807205186  \n",
       "111291  94132.0    (37.71993360931114, -122.4934839342649)  1409101498824  \n",
       "153084  94132.0    (37.71993360931114, -122.4934839342649)  1457580471826  \n",
       "155263  94112.0    (37.7083761736833, -122.42802141182385)  1460557203010  \n",
       "162451  94132.0    (37.71993360931114, -122.4934839342649)  1470213498824  \n",
       "175513  94132.0    (37.71993360931114, -122.4934839342649)  1457075504092  \n",
       "177006  94132.0   (37.70829338744119, -122.48350972345418)  1466000492201  \n",
       "186364  94112.0  (37.708277723752225, -122.43921944248987)  1483904205147  \n",
       "\n",
       "[10 rows x 43 columns]"
      ]
     },
     "execution_count": 438,
     "metadata": {},
     "output_type": "execute_result"
    }
   ],
   "source": [
    "#Rows that have null Neighborhoods - Analysis Boundaries but not null Zipcode\n",
    "df[(df['Neighborhoods - Analysis Boundaries'].isnull())&(df['Zipcode'].notnull())]"
   ]
  },
  {
   "cell_type": "code",
   "execution_count": 439,
   "metadata": {},
   "outputs": [
    {
     "data": {
      "text/plain": [
       "Excelsior                     2724\n",
       "Outer Mission                 2241\n",
       "Oceanview/Merced/Ingleside    1651\n",
       "West of Twin Peaks            1083\n",
       "Bernal Heights                 192\n",
       "McLaren Park                     1\n",
       "Name: Neighborhoods - Analysis Boundaries, dtype: int64"
      ]
     },
     "execution_count": 439,
     "metadata": {},
     "output_type": "execute_result"
    }
   ],
   "source": [
    "#Values of Neighborhoods - Analysis Boundaries that have Zipcode = 94112\n",
    "df.loc[df['Zipcode']==94112,'Neighborhoods - Analysis Boundaries'].value_counts()"
   ]
  },
  {
   "cell_type": "code",
   "execution_count": 440,
   "metadata": {},
   "outputs": [
    {
     "name": "stderr",
     "output_type": "stream",
     "text": [
      "/var/folders/v0/84n2brq13nl0lv8hgw1lgk180000gn/T/ipykernel_16255/303826306.py:3: SettingWithCopyWarning: \n",
      "A value is trying to be set on a copy of a slice from a DataFrame\n",
      "\n",
      "See the caveats in the documentation: https://pandas.pydata.org/pandas-docs/stable/user_guide/indexing.html#returning-a-view-versus-a-copy\n",
      "  df_1['Neighborhoods - Analysis Boundaries'].fillna('Excelsior',inplace=True)\n"
     ]
    }
   ],
   "source": [
    "#Create a sub dataframe that only contains rows that have Zipcode = 94112\n",
    "df_1 = df_clean.loc[df_clean['Zipcode']==94112,]\n",
    "df_1['Neighborhoods - Analysis Boundaries'].fillna('Excelsior',inplace=True)"
   ]
  },
  {
   "cell_type": "code",
   "execution_count": 441,
   "metadata": {},
   "outputs": [
    {
     "data": {
      "text/plain": [
       "Lakeshore                     1308\n",
       "Oceanview/Merced/Ingleside     976\n",
       "Sunset/Parkside                862\n",
       "West of Twin Peaks             356\n",
       "Name: Neighborhoods - Analysis Boundaries, dtype: int64"
      ]
     },
     "execution_count": 441,
     "metadata": {},
     "output_type": "execute_result"
    }
   ],
   "source": [
    "#Values of Neighborhoods - Analysis Boundaries that have Zipcode = 94132\n",
    "df.loc[df['Zipcode']==94132,'Neighborhoods - Analysis Boundaries'].value_counts()"
   ]
  },
  {
   "cell_type": "code",
   "execution_count": 442,
   "metadata": {},
   "outputs": [
    {
     "name": "stderr",
     "output_type": "stream",
     "text": [
      "/var/folders/v0/84n2brq13nl0lv8hgw1lgk180000gn/T/ipykernel_16255/3162697717.py:3: SettingWithCopyWarning: \n",
      "A value is trying to be set on a copy of a slice from a DataFrame\n",
      "\n",
      "See the caveats in the documentation: https://pandas.pydata.org/pandas-docs/stable/user_guide/indexing.html#returning-a-view-versus-a-copy\n",
      "  df_2['Neighborhoods - Analysis Boundaries'].fillna('Lakeshore',inplace=True)\n"
     ]
    }
   ],
   "source": [
    "#Create a sub dataframe that only contains rows that have Zipcode = 94112\n",
    "df_2 = df_clean.loc[df_clean['Zipcode']==94132]\n",
    "df_2['Neighborhoods - Analysis Boundaries'].fillna('Lakeshore',inplace=True)"
   ]
  },
  {
   "cell_type": "code",
   "execution_count": 443,
   "metadata": {},
   "outputs": [
    {
     "name": "stderr",
     "output_type": "stream",
     "text": [
      "/var/folders/v0/84n2brq13nl0lv8hgw1lgk180000gn/T/ipykernel_16255/1082133173.py:4: SettingWithCopyWarning: \n",
      "A value is trying to be set on a copy of a slice from a DataFrame\n",
      "\n",
      "See the caveats in the documentation: https://pandas.pydata.org/pandas-docs/stable/user_guide/indexing.html#returning-a-view-versus-a-copy\n",
      "  df_clean.drop(index, inplace=True)\n"
     ]
    },
    {
     "data": {
      "text/html": [
       "<div>\n",
       "<style scoped>\n",
       "    .dataframe tbody tr th:only-of-type {\n",
       "        vertical-align: middle;\n",
       "    }\n",
       "\n",
       "    .dataframe tbody tr th {\n",
       "        vertical-align: top;\n",
       "    }\n",
       "\n",
       "    .dataframe thead th {\n",
       "        text-align: right;\n",
       "    }\n",
       "</style>\n",
       "<table border=\"1\" class=\"dataframe\">\n",
       "  <thead>\n",
       "    <tr style=\"text-align: right;\">\n",
       "      <th></th>\n",
       "      <th>Permit Number</th>\n",
       "      <th>Permit Type</th>\n",
       "      <th>Permit Type Definition</th>\n",
       "      <th>Permit Creation Date</th>\n",
       "      <th>Block</th>\n",
       "      <th>Lot</th>\n",
       "      <th>Street Number</th>\n",
       "      <th>Street Number Suffix</th>\n",
       "      <th>Street Name</th>\n",
       "      <th>Street Suffix</th>\n",
       "      <th>...</th>\n",
       "      <th>Existing Construction Type</th>\n",
       "      <th>Existing Construction Type Description</th>\n",
       "      <th>Proposed Construction Type</th>\n",
       "      <th>Proposed Construction Type Description</th>\n",
       "      <th>Site Permit</th>\n",
       "      <th>Supervisor District</th>\n",
       "      <th>Neighborhoods - Analysis Boundaries</th>\n",
       "      <th>Zipcode</th>\n",
       "      <th>Location</th>\n",
       "      <th>Record ID</th>\n",
       "    </tr>\n",
       "  </thead>\n",
       "  <tbody>\n",
       "    <tr>\n",
       "      <th>47</th>\n",
       "      <td>M839427</td>\n",
       "      <td>8</td>\n",
       "      <td>otc alterations permit</td>\n",
       "      <td>10/04/2017</td>\n",
       "      <td>6780</td>\n",
       "      <td>034</td>\n",
       "      <td>252</td>\n",
       "      <td>NaN</td>\n",
       "      <td>Cotter</td>\n",
       "      <td>St</td>\n",
       "      <td>...</td>\n",
       "      <td>NaN</td>\n",
       "      <td>NaN</td>\n",
       "      <td>NaN</td>\n",
       "      <td>NaN</td>\n",
       "      <td>N</td>\n",
       "      <td>11.0</td>\n",
       "      <td>Outer Mission</td>\n",
       "      <td>94112.0</td>\n",
       "      <td>(37.729885737657085, -122.43669590253097)</td>\n",
       "      <td>1482203213002</td>\n",
       "    </tr>\n",
       "    <tr>\n",
       "      <th>64</th>\n",
       "      <td>201711154040</td>\n",
       "      <td>3</td>\n",
       "      <td>additions alterations or repairs</td>\n",
       "      <td>11/15/2017</td>\n",
       "      <td>6969</td>\n",
       "      <td>001</td>\n",
       "      <td>5050</td>\n",
       "      <td>NaN</td>\n",
       "      <td>Mission</td>\n",
       "      <td>St</td>\n",
       "      <td>...</td>\n",
       "      <td>NaN</td>\n",
       "      <td>NaN</td>\n",
       "      <td>NaN</td>\n",
       "      <td>NaN</td>\n",
       "      <td>N</td>\n",
       "      <td>11.0</td>\n",
       "      <td>Outer Mission</td>\n",
       "      <td>94112.0</td>\n",
       "      <td>(37.71772263199437, -122.44060092814006)</td>\n",
       "      <td>1487232215636</td>\n",
       "    </tr>\n",
       "    <tr>\n",
       "      <th>97</th>\n",
       "      <td>201602058959</td>\n",
       "      <td>3</td>\n",
       "      <td>additions alterations or repairs</td>\n",
       "      <td>02/05/2016</td>\n",
       "      <td>6404</td>\n",
       "      <td>017</td>\n",
       "      <td>1201</td>\n",
       "      <td>NaN</td>\n",
       "      <td>Geneva</td>\n",
       "      <td>Av</td>\n",
       "      <td>...</td>\n",
       "      <td>5.0</td>\n",
       "      <td>wood frame (5)</td>\n",
       "      <td>5.0</td>\n",
       "      <td>wood frame (5)</td>\n",
       "      <td>N</td>\n",
       "      <td>11.0</td>\n",
       "      <td>Excelsior</td>\n",
       "      <td>94112.0</td>\n",
       "      <td>(37.71433687660641, -122.43582765047069)</td>\n",
       "      <td>1411583202293</td>\n",
       "    </tr>\n",
       "    <tr>\n",
       "      <th>179</th>\n",
       "      <td>M813548</td>\n",
       "      <td>8</td>\n",
       "      <td>otc alterations permit</td>\n",
       "      <td>07/26/2017</td>\n",
       "      <td>3206</td>\n",
       "      <td>027</td>\n",
       "      <td>43</td>\n",
       "      <td>NaN</td>\n",
       "      <td>Norton</td>\n",
       "      <td>St</td>\n",
       "      <td>...</td>\n",
       "      <td>NaN</td>\n",
       "      <td>NaN</td>\n",
       "      <td>NaN</td>\n",
       "      <td>NaN</td>\n",
       "      <td>N</td>\n",
       "      <td>11.0</td>\n",
       "      <td>Outer Mission</td>\n",
       "      <td>94112.0</td>\n",
       "      <td>(37.7248056861895, -122.43582950746978)</td>\n",
       "      <td>1471977154849</td>\n",
       "    </tr>\n",
       "    <tr>\n",
       "      <th>213</th>\n",
       "      <td>M818747</td>\n",
       "      <td>8</td>\n",
       "      <td>otc alterations permit</td>\n",
       "      <td>08/14/2017</td>\n",
       "      <td>3147</td>\n",
       "      <td>030</td>\n",
       "      <td>4534</td>\n",
       "      <td>NaN</td>\n",
       "      <td>Mission</td>\n",
       "      <td>St</td>\n",
       "      <td>...</td>\n",
       "      <td>NaN</td>\n",
       "      <td>NaN</td>\n",
       "      <td>NaN</td>\n",
       "      <td>NaN</td>\n",
       "      <td>N</td>\n",
       "      <td>11.0</td>\n",
       "      <td>Outer Mission</td>\n",
       "      <td>94112.0</td>\n",
       "      <td>(37.72545183685408, -122.43458476956798)</td>\n",
       "      <td>1474411246405</td>\n",
       "    </tr>\n",
       "    <tr>\n",
       "      <th>...</th>\n",
       "      <td>...</td>\n",
       "      <td>...</td>\n",
       "      <td>...</td>\n",
       "      <td>...</td>\n",
       "      <td>...</td>\n",
       "      <td>...</td>\n",
       "      <td>...</td>\n",
       "      <td>...</td>\n",
       "      <td>...</td>\n",
       "      <td>...</td>\n",
       "      <td>...</td>\n",
       "      <td>...</td>\n",
       "      <td>...</td>\n",
       "      <td>...</td>\n",
       "      <td>...</td>\n",
       "      <td>...</td>\n",
       "      <td>...</td>\n",
       "      <td>...</td>\n",
       "      <td>...</td>\n",
       "      <td>...</td>\n",
       "      <td>...</td>\n",
       "    </tr>\n",
       "    <tr>\n",
       "      <th>198895</th>\n",
       "      <td>M862628</td>\n",
       "      <td>8</td>\n",
       "      <td>otc alterations permit</td>\n",
       "      <td>12/05/2017</td>\n",
       "      <td>0113</td>\n",
       "      <td>017A</td>\n",
       "      <td>1228</td>\n",
       "      <td>NaN</td>\n",
       "      <td>Montgomery</td>\n",
       "      <td>St</td>\n",
       "      <td>...</td>\n",
       "      <td>NaN</td>\n",
       "      <td>NaN</td>\n",
       "      <td>NaN</td>\n",
       "      <td>NaN</td>\n",
       "      <td>N</td>\n",
       "      <td>NaN</td>\n",
       "      <td>NaN</td>\n",
       "      <td>NaN</td>\n",
       "      <td>NaN</td>\n",
       "      <td>1489337276729</td>\n",
       "    </tr>\n",
       "    <tr>\n",
       "      <th>198896</th>\n",
       "      <td>201712055595</td>\n",
       "      <td>8</td>\n",
       "      <td>otc alterations permit</td>\n",
       "      <td>12/05/2017</td>\n",
       "      <td>0271</td>\n",
       "      <td>014</td>\n",
       "      <td>580</td>\n",
       "      <td>NaN</td>\n",
       "      <td>Bush</td>\n",
       "      <td>St</td>\n",
       "      <td>...</td>\n",
       "      <td>5.0</td>\n",
       "      <td>wood frame (5)</td>\n",
       "      <td>5.0</td>\n",
       "      <td>wood frame (5)</td>\n",
       "      <td>N</td>\n",
       "      <td>NaN</td>\n",
       "      <td>NaN</td>\n",
       "      <td>NaN</td>\n",
       "      <td>NaN</td>\n",
       "      <td>1489462354993</td>\n",
       "    </tr>\n",
       "    <tr>\n",
       "      <th>198897</th>\n",
       "      <td>M863507</td>\n",
       "      <td>8</td>\n",
       "      <td>otc alterations permit</td>\n",
       "      <td>12/06/2017</td>\n",
       "      <td>4318</td>\n",
       "      <td>019</td>\n",
       "      <td>1568</td>\n",
       "      <td>NaN</td>\n",
       "      <td>Indiana</td>\n",
       "      <td>St</td>\n",
       "      <td>...</td>\n",
       "      <td>NaN</td>\n",
       "      <td>NaN</td>\n",
       "      <td>NaN</td>\n",
       "      <td>NaN</td>\n",
       "      <td>N</td>\n",
       "      <td>NaN</td>\n",
       "      <td>NaN</td>\n",
       "      <td>NaN</td>\n",
       "      <td>NaN</td>\n",
       "      <td>1489539379952</td>\n",
       "    </tr>\n",
       "    <tr>\n",
       "      <th>198898</th>\n",
       "      <td>M863747</td>\n",
       "      <td>8</td>\n",
       "      <td>otc alterations permit</td>\n",
       "      <td>12/06/2017</td>\n",
       "      <td>0298</td>\n",
       "      <td>029</td>\n",
       "      <td>795</td>\n",
       "      <td>NaN</td>\n",
       "      <td>Sutter</td>\n",
       "      <td>St</td>\n",
       "      <td>...</td>\n",
       "      <td>NaN</td>\n",
       "      <td>NaN</td>\n",
       "      <td>NaN</td>\n",
       "      <td>NaN</td>\n",
       "      <td>N</td>\n",
       "      <td>NaN</td>\n",
       "      <td>NaN</td>\n",
       "      <td>NaN</td>\n",
       "      <td>NaN</td>\n",
       "      <td>1489608233656</td>\n",
       "    </tr>\n",
       "    <tr>\n",
       "      <th>198899</th>\n",
       "      <td>M864287</td>\n",
       "      <td>8</td>\n",
       "      <td>otc alterations permit</td>\n",
       "      <td>12/07/2017</td>\n",
       "      <td>0160</td>\n",
       "      <td>006</td>\n",
       "      <td>838</td>\n",
       "      <td>NaN</td>\n",
       "      <td>Pacific</td>\n",
       "      <td>Av</td>\n",
       "      <td>...</td>\n",
       "      <td>NaN</td>\n",
       "      <td>NaN</td>\n",
       "      <td>NaN</td>\n",
       "      <td>NaN</td>\n",
       "      <td>N</td>\n",
       "      <td>NaN</td>\n",
       "      <td>NaN</td>\n",
       "      <td>NaN</td>\n",
       "      <td>NaN</td>\n",
       "      <td>1489796283803</td>\n",
       "    </tr>\n",
       "  </tbody>\n",
       "</table>\n",
       "<p>193481 rows × 43 columns</p>\n",
       "</div>"
      ],
      "text/plain": [
       "       Permit Number  Permit Type            Permit Type Definition  \\\n",
       "47           M839427            8            otc alterations permit   \n",
       "64      201711154040            3  additions alterations or repairs   \n",
       "97      201602058959            3  additions alterations or repairs   \n",
       "179          M813548            8            otc alterations permit   \n",
       "213          M818747            8            otc alterations permit   \n",
       "...              ...          ...                               ...   \n",
       "198895       M862628            8            otc alterations permit   \n",
       "198896  201712055595            8            otc alterations permit   \n",
       "198897       M863507            8            otc alterations permit   \n",
       "198898       M863747            8            otc alterations permit   \n",
       "198899       M864287            8            otc alterations permit   \n",
       "\n",
       "       Permit Creation Date Block   Lot  Street Number Street Number Suffix  \\\n",
       "47               10/04/2017  6780   034            252                  NaN   \n",
       "64               11/15/2017  6969   001           5050                  NaN   \n",
       "97               02/05/2016  6404   017           1201                  NaN   \n",
       "179              07/26/2017  3206   027             43                  NaN   \n",
       "213              08/14/2017  3147   030           4534                  NaN   \n",
       "...                     ...   ...   ...            ...                  ...   \n",
       "198895           12/05/2017  0113  017A           1228                  NaN   \n",
       "198896           12/05/2017  0271   014            580                  NaN   \n",
       "198897           12/06/2017  4318   019           1568                  NaN   \n",
       "198898           12/06/2017  0298   029            795                  NaN   \n",
       "198899           12/07/2017  0160   006            838                  NaN   \n",
       "\n",
       "       Street Name Street Suffix  ...  Existing Construction Type  \\\n",
       "47          Cotter            St  ...                         NaN   \n",
       "64         Mission            St  ...                         NaN   \n",
       "97          Geneva            Av  ...                         5.0   \n",
       "179         Norton            St  ...                         NaN   \n",
       "213        Mission            St  ...                         NaN   \n",
       "...            ...           ...  ...                         ...   \n",
       "198895  Montgomery            St  ...                         NaN   \n",
       "198896        Bush            St  ...                         5.0   \n",
       "198897     Indiana            St  ...                         NaN   \n",
       "198898      Sutter            St  ...                         NaN   \n",
       "198899     Pacific            Av  ...                         NaN   \n",
       "\n",
       "       Existing Construction Type Description Proposed Construction Type  \\\n",
       "47                                        NaN                        NaN   \n",
       "64                                        NaN                        NaN   \n",
       "97                             wood frame (5)                        5.0   \n",
       "179                                       NaN                        NaN   \n",
       "213                                       NaN                        NaN   \n",
       "...                                       ...                        ...   \n",
       "198895                                    NaN                        NaN   \n",
       "198896                         wood frame (5)                        5.0   \n",
       "198897                                    NaN                        NaN   \n",
       "198898                                    NaN                        NaN   \n",
       "198899                                    NaN                        NaN   \n",
       "\n",
       "       Proposed Construction Type Description Site Permit Supervisor District  \\\n",
       "47                                        NaN           N                11.0   \n",
       "64                                        NaN           N                11.0   \n",
       "97                             wood frame (5)           N                11.0   \n",
       "179                                       NaN           N                11.0   \n",
       "213                                       NaN           N                11.0   \n",
       "...                                       ...         ...                 ...   \n",
       "198895                                    NaN           N                 NaN   \n",
       "198896                         wood frame (5)           N                 NaN   \n",
       "198897                                    NaN           N                 NaN   \n",
       "198898                                    NaN           N                 NaN   \n",
       "198899                                    NaN           N                 NaN   \n",
       "\n",
       "       Neighborhoods - Analysis Boundaries  Zipcode  \\\n",
       "47                           Outer Mission  94112.0   \n",
       "64                           Outer Mission  94112.0   \n",
       "97                               Excelsior  94112.0   \n",
       "179                          Outer Mission  94112.0   \n",
       "213                          Outer Mission  94112.0   \n",
       "...                                    ...      ...   \n",
       "198895                                 NaN      NaN   \n",
       "198896                                 NaN      NaN   \n",
       "198897                                 NaN      NaN   \n",
       "198898                                 NaN      NaN   \n",
       "198899                                 NaN      NaN   \n",
       "\n",
       "                                         Location      Record ID  \n",
       "47      (37.729885737657085, -122.43669590253097)  1482203213002  \n",
       "64       (37.71772263199437, -122.44060092814006)  1487232215636  \n",
       "97       (37.71433687660641, -122.43582765047069)  1411583202293  \n",
       "179       (37.7248056861895, -122.43582950746978)  1471977154849  \n",
       "213      (37.72545183685408, -122.43458476956798)  1474411246405  \n",
       "...                                           ...            ...  \n",
       "198895                                        NaN  1489337276729  \n",
       "198896                                        NaN  1489462354993  \n",
       "198897                                        NaN  1489539379952  \n",
       "198898                                        NaN  1489608233656  \n",
       "198899                                        NaN  1489796283803  \n",
       "\n",
       "[193481 rows x 43 columns]"
      ]
     },
     "execution_count": 443,
     "metadata": {},
     "output_type": "execute_result"
    }
   ],
   "source": [
    "#Drop rows that contain Zipcode = 94112 or 94132\n",
    "df_filtered = df_clean[(df_clean['Zipcode'].isin([94112, 94132]))]\n",
    "index = df_filtered.index\n",
    "df_clean.drop(index, inplace=True)\n",
    "\n",
    "#Concatnate the two sub dataframes with the original dataframe\n",
    "df_clean = pd.concat([df_1, df_2, df_clean])\n",
    "df_clean"
   ]
  },
  {
   "cell_type": "code",
   "execution_count": 444,
   "metadata": {},
   "outputs": [],
   "source": [
    "#Drop the remaining missing values\n",
    "df_clean.dropna(axis=0, subset='Neighborhoods - Analysis Boundaries', inplace=True)"
   ]
  },
  {
   "cell_type": "markdown",
   "metadata": {},
   "source": [
    "- It can be seen that column Supervisor District has 0.86% of its data missing. According to the data dictionary, this column provides information about the Supervisor District to which the building location belongs to.\n",
    "- This information can be based on the column Neighborhoods - Analysis Boundaries to fill in the missing values. However, after cleaning column Neighborhoods - Analysis Boundaries, there are only 3 rows that have null Supervisor District also have not null Neighborhoods - Analysis Boundaries.\n",
    "    * With regards to when Neighborhoods - Analysis Boundaries equals Excelsior and Zipcode equals 94112, most of the time the Supervisor District equals 11, so it is reasonable to fill in the missing values with 11.\n",
    "    * With regards to when Neighborhoods - Analysis Boundaries equals Lakeshore and Zipcode equals 94132, all the time the Supervisor District equals 7, so it is reasonable to fill in the missing values with 7.\n",
    "- In addition, the proportion of missing data is not substanstial, so it is reasonable to drop the remaining missing rows."
   ]
  },
  {
   "cell_type": "code",
   "execution_count": 445,
   "metadata": {},
   "outputs": [
    {
     "data": {
      "text/html": [
       "<div>\n",
       "<style scoped>\n",
       "    .dataframe tbody tr th:only-of-type {\n",
       "        vertical-align: middle;\n",
       "    }\n",
       "\n",
       "    .dataframe tbody tr th {\n",
       "        vertical-align: top;\n",
       "    }\n",
       "\n",
       "    .dataframe thead th {\n",
       "        text-align: right;\n",
       "    }\n",
       "</style>\n",
       "<table border=\"1\" class=\"dataframe\">\n",
       "  <thead>\n",
       "    <tr style=\"text-align: right;\">\n",
       "      <th></th>\n",
       "      <th>Permit Number</th>\n",
       "      <th>Permit Type</th>\n",
       "      <th>Permit Type Definition</th>\n",
       "      <th>Permit Creation Date</th>\n",
       "      <th>Block</th>\n",
       "      <th>Lot</th>\n",
       "      <th>Street Number</th>\n",
       "      <th>Street Number Suffix</th>\n",
       "      <th>Street Name</th>\n",
       "      <th>Street Suffix</th>\n",
       "      <th>...</th>\n",
       "      <th>Existing Construction Type</th>\n",
       "      <th>Existing Construction Type Description</th>\n",
       "      <th>Proposed Construction Type</th>\n",
       "      <th>Proposed Construction Type Description</th>\n",
       "      <th>Site Permit</th>\n",
       "      <th>Supervisor District</th>\n",
       "      <th>Neighborhoods - Analysis Boundaries</th>\n",
       "      <th>Zipcode</th>\n",
       "      <th>Location</th>\n",
       "      <th>Record ID</th>\n",
       "    </tr>\n",
       "  </thead>\n",
       "  <tbody>\n",
       "    <tr>\n",
       "      <th>155263</th>\n",
       "      <td>201704244705</td>\n",
       "      <td>8</td>\n",
       "      <td>otc alterations permit</td>\n",
       "      <td>04/24/2017</td>\n",
       "      <td>6432</td>\n",
       "      <td>018</td>\n",
       "      <td>88</td>\n",
       "      <td>NaN</td>\n",
       "      <td>Robinson</td>\n",
       "      <td>Dr</td>\n",
       "      <td>...</td>\n",
       "      <td>5.0</td>\n",
       "      <td>wood frame (5)</td>\n",
       "      <td>5.0</td>\n",
       "      <td>wood frame (5)</td>\n",
       "      <td>N</td>\n",
       "      <td>NaN</td>\n",
       "      <td>Excelsior</td>\n",
       "      <td>94112.0</td>\n",
       "      <td>(37.7083761736833, -122.42802141182385)</td>\n",
       "      <td>1460557203010</td>\n",
       "    </tr>\n",
       "    <tr>\n",
       "      <th>186364</th>\n",
       "      <td>201710191639</td>\n",
       "      <td>8</td>\n",
       "      <td>otc alterations permit</td>\n",
       "      <td>10/19/2017</td>\n",
       "      <td>6498</td>\n",
       "      <td>012</td>\n",
       "      <td>321</td>\n",
       "      <td>NaN</td>\n",
       "      <td>Polaris</td>\n",
       "      <td>Wy</td>\n",
       "      <td>...</td>\n",
       "      <td>5.0</td>\n",
       "      <td>wood frame (5)</td>\n",
       "      <td>5.0</td>\n",
       "      <td>wood frame (5)</td>\n",
       "      <td>N</td>\n",
       "      <td>NaN</td>\n",
       "      <td>Excelsior</td>\n",
       "      <td>94112.0</td>\n",
       "      <td>(37.708277723752225, -122.43921944248987)</td>\n",
       "      <td>1483904205147</td>\n",
       "    </tr>\n",
       "    <tr>\n",
       "      <th>177006</th>\n",
       "      <td>201706078660</td>\n",
       "      <td>8</td>\n",
       "      <td>otc alterations permit</td>\n",
       "      <td>06/07/2017</td>\n",
       "      <td>7381</td>\n",
       "      <td>041</td>\n",
       "      <td>143</td>\n",
       "      <td>NaN</td>\n",
       "      <td>Lake Merced Hill St South</td>\n",
       "      <td>St</td>\n",
       "      <td>...</td>\n",
       "      <td>5.0</td>\n",
       "      <td>wood frame (5)</td>\n",
       "      <td>5.0</td>\n",
       "      <td>wood frame (5)</td>\n",
       "      <td>N</td>\n",
       "      <td>NaN</td>\n",
       "      <td>Lakeshore</td>\n",
       "      <td>94132.0</td>\n",
       "      <td>(37.70829338744119, -122.48350972345418)</td>\n",
       "      <td>1466000492201</td>\n",
       "    </tr>\n",
       "  </tbody>\n",
       "</table>\n",
       "<p>3 rows × 43 columns</p>\n",
       "</div>"
      ],
      "text/plain": [
       "       Permit Number  Permit Type  Permit Type Definition  \\\n",
       "155263  201704244705            8  otc alterations permit   \n",
       "186364  201710191639            8  otc alterations permit   \n",
       "177006  201706078660            8  otc alterations permit   \n",
       "\n",
       "       Permit Creation Date Block  Lot  Street Number Street Number Suffix  \\\n",
       "155263           04/24/2017  6432  018             88                  NaN   \n",
       "186364           10/19/2017  6498  012            321                  NaN   \n",
       "177006           06/07/2017  7381  041            143                  NaN   \n",
       "\n",
       "                      Street Name Street Suffix  ...  \\\n",
       "155263                   Robinson            Dr  ...   \n",
       "186364                    Polaris            Wy  ...   \n",
       "177006  Lake Merced Hill St South            St  ...   \n",
       "\n",
       "        Existing Construction Type Existing Construction Type Description  \\\n",
       "155263                         5.0                         wood frame (5)   \n",
       "186364                         5.0                         wood frame (5)   \n",
       "177006                         5.0                         wood frame (5)   \n",
       "\n",
       "       Proposed Construction Type Proposed Construction Type Description  \\\n",
       "155263                        5.0                         wood frame (5)   \n",
       "186364                        5.0                         wood frame (5)   \n",
       "177006                        5.0                         wood frame (5)   \n",
       "\n",
       "       Site Permit Supervisor District Neighborhoods - Analysis Boundaries  \\\n",
       "155263           N                 NaN                           Excelsior   \n",
       "186364           N                 NaN                           Excelsior   \n",
       "177006           N                 NaN                           Lakeshore   \n",
       "\n",
       "        Zipcode                                   Location      Record ID  \n",
       "155263  94112.0    (37.7083761736833, -122.42802141182385)  1460557203010  \n",
       "186364  94112.0  (37.708277723752225, -122.43921944248987)  1483904205147  \n",
       "177006  94132.0   (37.70829338744119, -122.48350972345418)  1466000492201  \n",
       "\n",
       "[3 rows x 43 columns]"
      ]
     },
     "execution_count": 445,
     "metadata": {},
     "output_type": "execute_result"
    }
   ],
   "source": [
    "#Number of rows that have null Supervisor District but not null Neighborhods - Analysis Boundaries\n",
    "df_clean[(df_clean['Supervisor District'].isnull())&(df_clean['Neighborhoods - Analysis Boundaries'].notnull())]"
   ]
  },
  {
   "cell_type": "code",
   "execution_count": 446,
   "metadata": {},
   "outputs": [
    {
     "data": {
      "text/plain": [
       "11.0    2701\n",
       "9.0       23\n",
       "Name: Supervisor District, dtype: int64"
      ]
     },
     "execution_count": 446,
     "metadata": {},
     "output_type": "execute_result"
    }
   ],
   "source": [
    "#Values of Supervisor District when Neighborhoods - Analysis Boundaries equals Excelsior and Zipcode equals 94112\n",
    "df[(df['Neighborhoods - Analysis Boundaries']=='Excelsior') & (df['Zipcode']==94112)][\"Supervisor District\"].value_counts()"
   ]
  },
  {
   "cell_type": "code",
   "execution_count": 447,
   "metadata": {},
   "outputs": [
    {
     "data": {
      "text/plain": [
       "7.0    1308\n",
       "Name: Supervisor District, dtype: int64"
      ]
     },
     "execution_count": 447,
     "metadata": {},
     "output_type": "execute_result"
    }
   ],
   "source": [
    "#Values of Supervisor District when Neighborhoods - Analysis Boundaries equals Lakeshore and Zipcode equals 94132\n",
    "df[(df['Neighborhoods - Analysis Boundaries']=='Lakeshore') & (df['Zipcode']==94132)][\"Supervisor District\"].value_counts()"
   ]
  },
  {
   "cell_type": "code",
   "execution_count": 448,
   "metadata": {},
   "outputs": [
    {
     "name": "stderr",
     "output_type": "stream",
     "text": [
      "/var/folders/v0/84n2brq13nl0lv8hgw1lgk180000gn/T/ipykernel_16255/167692902.py:3: SettingWithCopyWarning: \n",
      "A value is trying to be set on a copy of a slice from a DataFrame\n",
      "\n",
      "See the caveats in the documentation: https://pandas.pydata.org/pandas-docs/stable/user_guide/indexing.html#returning-a-view-versus-a-copy\n",
      "  df_1['Supervisor District'].fillna(11,inplace=True)\n"
     ]
    }
   ],
   "source": [
    "#Create a sub dataframe that only contains rows that have Zipcode = 94112 and Neighborhoods - Analysis Boundaries equals Excelsior\n",
    "df_1 = df_clean.loc[(df_clean['Zipcode']==94112) & (df_clean['Neighborhoods - Analysis Boundaries']=='Excelsior'),]\n",
    "df_1['Supervisor District'].fillna(11,inplace=True)"
   ]
  },
  {
   "cell_type": "code",
   "execution_count": 449,
   "metadata": {},
   "outputs": [
    {
     "name": "stderr",
     "output_type": "stream",
     "text": [
      "/var/folders/v0/84n2brq13nl0lv8hgw1lgk180000gn/T/ipykernel_16255/2783921099.py:3: SettingWithCopyWarning: \n",
      "A value is trying to be set on a copy of a slice from a DataFrame\n",
      "\n",
      "See the caveats in the documentation: https://pandas.pydata.org/pandas-docs/stable/user_guide/indexing.html#returning-a-view-versus-a-copy\n",
      "  df_2['Supervisor District'].fillna(7,inplace=True)\n"
     ]
    }
   ],
   "source": [
    "#Create a sub dataframe that only contains rows that have Zipcode = 94132 and Neighborhoods - Analysis Boundaries equals Excelsior\n",
    "df_2 = df_clean.loc[(df_clean['Zipcode']==94112) & (df_clean['Neighborhoods - Analysis Boundaries']=='Lakeshore'),]\n",
    "df_2['Supervisor District'].fillna(7,inplace=True)"
   ]
  },
  {
   "cell_type": "code",
   "execution_count": 450,
   "metadata": {},
   "outputs": [
    {
     "data": {
      "text/html": [
       "<div>\n",
       "<style scoped>\n",
       "    .dataframe tbody tr th:only-of-type {\n",
       "        vertical-align: middle;\n",
       "    }\n",
       "\n",
       "    .dataframe tbody tr th {\n",
       "        vertical-align: top;\n",
       "    }\n",
       "\n",
       "    .dataframe thead th {\n",
       "        text-align: right;\n",
       "    }\n",
       "</style>\n",
       "<table border=\"1\" class=\"dataframe\">\n",
       "  <thead>\n",
       "    <tr style=\"text-align: right;\">\n",
       "      <th></th>\n",
       "      <th>Permit Number</th>\n",
       "      <th>Permit Type</th>\n",
       "      <th>Permit Type Definition</th>\n",
       "      <th>Permit Creation Date</th>\n",
       "      <th>Block</th>\n",
       "      <th>Lot</th>\n",
       "      <th>Street Number</th>\n",
       "      <th>Street Number Suffix</th>\n",
       "      <th>Street Name</th>\n",
       "      <th>Street Suffix</th>\n",
       "      <th>...</th>\n",
       "      <th>Existing Construction Type</th>\n",
       "      <th>Existing Construction Type Description</th>\n",
       "      <th>Proposed Construction Type</th>\n",
       "      <th>Proposed Construction Type Description</th>\n",
       "      <th>Site Permit</th>\n",
       "      <th>Supervisor District</th>\n",
       "      <th>Neighborhoods - Analysis Boundaries</th>\n",
       "      <th>Zipcode</th>\n",
       "      <th>Location</th>\n",
       "      <th>Record ID</th>\n",
       "    </tr>\n",
       "  </thead>\n",
       "  <tbody>\n",
       "    <tr>\n",
       "      <th>97</th>\n",
       "      <td>201602058959</td>\n",
       "      <td>3</td>\n",
       "      <td>additions alterations or repairs</td>\n",
       "      <td>02/05/2016</td>\n",
       "      <td>6404</td>\n",
       "      <td>017</td>\n",
       "      <td>1201</td>\n",
       "      <td>NaN</td>\n",
       "      <td>Geneva</td>\n",
       "      <td>Av</td>\n",
       "      <td>...</td>\n",
       "      <td>5.0</td>\n",
       "      <td>wood frame (5)</td>\n",
       "      <td>5.0</td>\n",
       "      <td>wood frame (5)</td>\n",
       "      <td>N</td>\n",
       "      <td>11.0</td>\n",
       "      <td>Excelsior</td>\n",
       "      <td>94112.0</td>\n",
       "      <td>(37.71433687660641, -122.43582765047069)</td>\n",
       "      <td>1411583202293</td>\n",
       "    </tr>\n",
       "    <tr>\n",
       "      <th>384</th>\n",
       "      <td>M852447</td>\n",
       "      <td>8</td>\n",
       "      <td>otc alterations permit</td>\n",
       "      <td>11/06/2017</td>\n",
       "      <td>5890</td>\n",
       "      <td>004A</td>\n",
       "      <td>275</td>\n",
       "      <td>NaN</td>\n",
       "      <td>Maynard</td>\n",
       "      <td>St</td>\n",
       "      <td>...</td>\n",
       "      <td>NaN</td>\n",
       "      <td>NaN</td>\n",
       "      <td>NaN</td>\n",
       "      <td>NaN</td>\n",
       "      <td>N</td>\n",
       "      <td>11.0</td>\n",
       "      <td>Excelsior</td>\n",
       "      <td>94112.0</td>\n",
       "      <td>(37.729703788032396, -122.42436027184064)</td>\n",
       "      <td>1486137190413</td>\n",
       "    </tr>\n",
       "    <tr>\n",
       "      <th>468</th>\n",
       "      <td>M869007</td>\n",
       "      <td>8</td>\n",
       "      <td>otc alterations permit</td>\n",
       "      <td>12/20/2017</td>\n",
       "      <td>6079</td>\n",
       "      <td>015A</td>\n",
       "      <td>486</td>\n",
       "      <td>NaN</td>\n",
       "      <td>Edinburg</td>\n",
       "      <td>St</td>\n",
       "      <td>...</td>\n",
       "      <td>NaN</td>\n",
       "      <td>NaN</td>\n",
       "      <td>NaN</td>\n",
       "      <td>NaN</td>\n",
       "      <td>N</td>\n",
       "      <td>11.0</td>\n",
       "      <td>Excelsior</td>\n",
       "      <td>94112.0</td>\n",
       "      <td>(37.7215758009115, -122.43209195778869)</td>\n",
       "      <td>1491320195468</td>\n",
       "    </tr>\n",
       "    <tr>\n",
       "      <th>473</th>\n",
       "      <td>M869487</td>\n",
       "      <td>8</td>\n",
       "      <td>otc alterations permit</td>\n",
       "      <td>12/21/2017</td>\n",
       "      <td>6020</td>\n",
       "      <td>007</td>\n",
       "      <td>350</td>\n",
       "      <td>NaN</td>\n",
       "      <td>Vienna</td>\n",
       "      <td>St</td>\n",
       "      <td>...</td>\n",
       "      <td>NaN</td>\n",
       "      <td>NaN</td>\n",
       "      <td>NaN</td>\n",
       "      <td>NaN</td>\n",
       "      <td>N</td>\n",
       "      <td>11.0</td>\n",
       "      <td>Excelsior</td>\n",
       "      <td>94112.0</td>\n",
       "      <td>(37.72289424614288, -122.42891347413111)</td>\n",
       "      <td>1491491194302</td>\n",
       "    </tr>\n",
       "    <tr>\n",
       "      <th>752</th>\n",
       "      <td>201301047252</td>\n",
       "      <td>8</td>\n",
       "      <td>otc alterations permit</td>\n",
       "      <td>01/04/2013</td>\n",
       "      <td>6409</td>\n",
       "      <td>010</td>\n",
       "      <td>965</td>\n",
       "      <td>NaN</td>\n",
       "      <td>Geneva</td>\n",
       "      <td>Av</td>\n",
       "      <td>...</td>\n",
       "      <td>2.0</td>\n",
       "      <td>constr type 2</td>\n",
       "      <td>2.0</td>\n",
       "      <td>constr type 2</td>\n",
       "      <td>N</td>\n",
       "      <td>11.0</td>\n",
       "      <td>Excelsior</td>\n",
       "      <td>94112.0</td>\n",
       "      <td>(37.71611785405651, -122.43971056334294)</td>\n",
       "      <td>1292388202430</td>\n",
       "    </tr>\n",
       "    <tr>\n",
       "      <th>...</th>\n",
       "      <td>...</td>\n",
       "      <td>...</td>\n",
       "      <td>...</td>\n",
       "      <td>...</td>\n",
       "      <td>...</td>\n",
       "      <td>...</td>\n",
       "      <td>...</td>\n",
       "      <td>...</td>\n",
       "      <td>...</td>\n",
       "      <td>...</td>\n",
       "      <td>...</td>\n",
       "      <td>...</td>\n",
       "      <td>...</td>\n",
       "      <td>...</td>\n",
       "      <td>...</td>\n",
       "      <td>...</td>\n",
       "      <td>...</td>\n",
       "      <td>...</td>\n",
       "      <td>...</td>\n",
       "      <td>...</td>\n",
       "      <td>...</td>\n",
       "    </tr>\n",
       "    <tr>\n",
       "      <th>198880</th>\n",
       "      <td>M893387</td>\n",
       "      <td>8</td>\n",
       "      <td>otc alterations permit</td>\n",
       "      <td>02/23/2018</td>\n",
       "      <td>1841</td>\n",
       "      <td>025D</td>\n",
       "      <td>1442</td>\n",
       "      <td>NaN</td>\n",
       "      <td>Funston</td>\n",
       "      <td>Av</td>\n",
       "      <td>...</td>\n",
       "      <td>NaN</td>\n",
       "      <td>NaN</td>\n",
       "      <td>NaN</td>\n",
       "      <td>NaN</td>\n",
       "      <td>N</td>\n",
       "      <td>7.0</td>\n",
       "      <td>Inner Sunset</td>\n",
       "      <td>94122.0</td>\n",
       "      <td>(37.76117190796411, -122.47007880106999)</td>\n",
       "      <td>1498337116842</td>\n",
       "    </tr>\n",
       "    <tr>\n",
       "      <th>198881</th>\n",
       "      <td>M893407</td>\n",
       "      <td>8</td>\n",
       "      <td>otc alterations permit</td>\n",
       "      <td>02/23/2018</td>\n",
       "      <td>0018</td>\n",
       "      <td>004</td>\n",
       "      <td>2300</td>\n",
       "      <td>NaN</td>\n",
       "      <td>Stockton</td>\n",
       "      <td>St</td>\n",
       "      <td>...</td>\n",
       "      <td>NaN</td>\n",
       "      <td>NaN</td>\n",
       "      <td>NaN</td>\n",
       "      <td>NaN</td>\n",
       "      <td>N</td>\n",
       "      <td>3.0</td>\n",
       "      <td>North Beach</td>\n",
       "      <td>94133.0</td>\n",
       "      <td>(37.80747140583783, -122.41024025753224)</td>\n",
       "      <td>1498338347099</td>\n",
       "    </tr>\n",
       "    <tr>\n",
       "      <th>198883</th>\n",
       "      <td>M893427</td>\n",
       "      <td>8</td>\n",
       "      <td>otc alterations permit</td>\n",
       "      <td>02/23/2018</td>\n",
       "      <td>0315</td>\n",
       "      <td>021</td>\n",
       "      <td>377</td>\n",
       "      <td>NaN</td>\n",
       "      <td>Geary</td>\n",
       "      <td>St</td>\n",
       "      <td>...</td>\n",
       "      <td>NaN</td>\n",
       "      <td>NaN</td>\n",
       "      <td>NaN</td>\n",
       "      <td>NaN</td>\n",
       "      <td>N</td>\n",
       "      <td>3.0</td>\n",
       "      <td>Tenderloin</td>\n",
       "      <td>94102.0</td>\n",
       "      <td>(37.78696971667916, -122.40936701144197)</td>\n",
       "      <td>149834069380</td>\n",
       "    </tr>\n",
       "    <tr>\n",
       "      <th>198884</th>\n",
       "      <td>M893447</td>\n",
       "      <td>8</td>\n",
       "      <td>otc alterations permit</td>\n",
       "      <td>02/23/2018</td>\n",
       "      <td>3504</td>\n",
       "      <td>030</td>\n",
       "      <td>1699</td>\n",
       "      <td>NaN</td>\n",
       "      <td>Market</td>\n",
       "      <td>St</td>\n",
       "      <td>...</td>\n",
       "      <td>NaN</td>\n",
       "      <td>NaN</td>\n",
       "      <td>NaN</td>\n",
       "      <td>NaN</td>\n",
       "      <td>N</td>\n",
       "      <td>6.0</td>\n",
       "      <td>Mission</td>\n",
       "      <td>94103.0</td>\n",
       "      <td>(37.77217130976155, -122.42193576313322)</td>\n",
       "      <td>1498341156230</td>\n",
       "    </tr>\n",
       "    <tr>\n",
       "      <th>198885</th>\n",
       "      <td>201802232173</td>\n",
       "      <td>8</td>\n",
       "      <td>otc alterations permit</td>\n",
       "      <td>02/23/2018</td>\n",
       "      <td>2150</td>\n",
       "      <td>001A</td>\n",
       "      <td>2007</td>\n",
       "      <td>NaN</td>\n",
       "      <td>30th</td>\n",
       "      <td>Av</td>\n",
       "      <td>...</td>\n",
       "      <td>5.0</td>\n",
       "      <td>wood frame (5)</td>\n",
       "      <td>5.0</td>\n",
       "      <td>wood frame (5)</td>\n",
       "      <td>N</td>\n",
       "      <td>4.0</td>\n",
       "      <td>Sunset/Parkside</td>\n",
       "      <td>94116.0</td>\n",
       "      <td>(37.74976582284573, -122.48824447038214)</td>\n",
       "      <td>1498342127659</td>\n",
       "    </tr>\n",
       "  </tbody>\n",
       "</table>\n",
       "<p>191823 rows × 43 columns</p>\n",
       "</div>"
      ],
      "text/plain": [
       "       Permit Number  Permit Type            Permit Type Definition  \\\n",
       "97      201602058959            3  additions alterations or repairs   \n",
       "384          M852447            8            otc alterations permit   \n",
       "468          M869007            8            otc alterations permit   \n",
       "473          M869487            8            otc alterations permit   \n",
       "752     201301047252            8            otc alterations permit   \n",
       "...              ...          ...                               ...   \n",
       "198880       M893387            8            otc alterations permit   \n",
       "198881       M893407            8            otc alterations permit   \n",
       "198883       M893427            8            otc alterations permit   \n",
       "198884       M893447            8            otc alterations permit   \n",
       "198885  201802232173            8            otc alterations permit   \n",
       "\n",
       "       Permit Creation Date Block   Lot  Street Number Street Number Suffix  \\\n",
       "97               02/05/2016  6404   017           1201                  NaN   \n",
       "384              11/06/2017  5890  004A            275                  NaN   \n",
       "468              12/20/2017  6079  015A            486                  NaN   \n",
       "473              12/21/2017  6020   007            350                  NaN   \n",
       "752              01/04/2013  6409   010            965                  NaN   \n",
       "...                     ...   ...   ...            ...                  ...   \n",
       "198880           02/23/2018  1841  025D           1442                  NaN   \n",
       "198881           02/23/2018  0018   004           2300                  NaN   \n",
       "198883           02/23/2018  0315   021            377                  NaN   \n",
       "198884           02/23/2018  3504   030           1699                  NaN   \n",
       "198885           02/23/2018  2150  001A           2007                  NaN   \n",
       "\n",
       "       Street Name Street Suffix  ...  Existing Construction Type  \\\n",
       "97          Geneva            Av  ...                         5.0   \n",
       "384        Maynard            St  ...                         NaN   \n",
       "468       Edinburg            St  ...                         NaN   \n",
       "473         Vienna            St  ...                         NaN   \n",
       "752         Geneva            Av  ...                         2.0   \n",
       "...            ...           ...  ...                         ...   \n",
       "198880     Funston            Av  ...                         NaN   \n",
       "198881    Stockton            St  ...                         NaN   \n",
       "198883       Geary            St  ...                         NaN   \n",
       "198884      Market            St  ...                         NaN   \n",
       "198885        30th            Av  ...                         5.0   \n",
       "\n",
       "       Existing Construction Type Description Proposed Construction Type  \\\n",
       "97                             wood frame (5)                        5.0   \n",
       "384                                       NaN                        NaN   \n",
       "468                                       NaN                        NaN   \n",
       "473                                       NaN                        NaN   \n",
       "752                             constr type 2                        2.0   \n",
       "...                                       ...                        ...   \n",
       "198880                                    NaN                        NaN   \n",
       "198881                                    NaN                        NaN   \n",
       "198883                                    NaN                        NaN   \n",
       "198884                                    NaN                        NaN   \n",
       "198885                         wood frame (5)                        5.0   \n",
       "\n",
       "       Proposed Construction Type Description Site Permit Supervisor District  \\\n",
       "97                             wood frame (5)           N                11.0   \n",
       "384                                       NaN           N                11.0   \n",
       "468                                       NaN           N                11.0   \n",
       "473                                       NaN           N                11.0   \n",
       "752                             constr type 2           N                11.0   \n",
       "...                                       ...         ...                 ...   \n",
       "198880                                    NaN           N                 7.0   \n",
       "198881                                    NaN           N                 3.0   \n",
       "198883                                    NaN           N                 3.0   \n",
       "198884                                    NaN           N                 6.0   \n",
       "198885                         wood frame (5)           N                 4.0   \n",
       "\n",
       "       Neighborhoods - Analysis Boundaries  Zipcode  \\\n",
       "97                               Excelsior  94112.0   \n",
       "384                              Excelsior  94112.0   \n",
       "468                              Excelsior  94112.0   \n",
       "473                              Excelsior  94112.0   \n",
       "752                              Excelsior  94112.0   \n",
       "...                                    ...      ...   \n",
       "198880                        Inner Sunset  94122.0   \n",
       "198881                         North Beach  94133.0   \n",
       "198883                          Tenderloin  94102.0   \n",
       "198884                             Mission  94103.0   \n",
       "198885                     Sunset/Parkside  94116.0   \n",
       "\n",
       "                                         Location      Record ID  \n",
       "97       (37.71433687660641, -122.43582765047069)  1411583202293  \n",
       "384     (37.729703788032396, -122.42436027184064)  1486137190413  \n",
       "468       (37.7215758009115, -122.43209195778869)  1491320195468  \n",
       "473      (37.72289424614288, -122.42891347413111)  1491491194302  \n",
       "752      (37.71611785405651, -122.43971056334294)  1292388202430  \n",
       "...                                           ...            ...  \n",
       "198880   (37.76117190796411, -122.47007880106999)  1498337116842  \n",
       "198881   (37.80747140583783, -122.41024025753224)  1498338347099  \n",
       "198883   (37.78696971667916, -122.40936701144197)   149834069380  \n",
       "198884   (37.77217130976155, -122.42193576313322)  1498341156230  \n",
       "198885   (37.74976582284573, -122.48824447038214)  1498342127659  \n",
       "\n",
       "[191823 rows x 43 columns]"
      ]
     },
     "execution_count": 450,
     "metadata": {},
     "output_type": "execute_result"
    }
   ],
   "source": [
    "#Drop rows that contain Zipcode = 94112 or 94132 and Neighborhoods - Analysis Boundaries equals Excelsior or Lakeshore\n",
    "df_filtered = df_clean.loc[(df_clean['Zipcode']==94112) & (df_clean['Neighborhoods - Analysis Boundaries']=='Excelsior'),]\n",
    "index = df_filtered.index\n",
    "df_clean.drop(index, inplace=True)\n",
    "\n",
    "df_filtered = df_clean.loc[(df_clean['Zipcode']==94112) & (df_clean['Neighborhoods - Analysis Boundaries']=='Lakeshore'),]\n",
    "index = df_filtered.index\n",
    "df_clean.drop(index, inplace=True)\n",
    "\n",
    "#Concatnate the two sub dataframes with the original dataframe\n",
    "df_clean = pd.concat([df_1, df_2, df_clean])\n",
    "df_clean"
   ]
  },
  {
   "cell_type": "code",
   "execution_count": 451,
   "metadata": {},
   "outputs": [],
   "source": [
    "#Drop rows that have missing Supervisor District\n",
    "df_clean.dropna(subset='Supervisor District', inplace=True)"
   ]
  },
  {
   "cell_type": "markdown",
   "metadata": {},
   "source": [
    "- In the orriginal dataset, 0.86% of the cells in column Location is missing. However after cleaning all of the previous columns, the number of missing cells in column Location is zero"
   ]
  },
  {
   "cell_type": "code",
   "execution_count": 454,
   "metadata": {},
   "outputs": [
    {
     "data": {
      "text/plain": [
       "0"
      ]
     },
     "execution_count": 454,
     "metadata": {},
     "output_type": "execute_result"
    }
   ],
   "source": [
    "#Number of missing cells in column Location in the final dataset\n",
    "df_clean['Location'].isnull().sum()"
   ]
  },
  {
   "cell_type": "code",
   "execution_count": 455,
   "metadata": {},
   "outputs": [],
   "source": [
    "#Export the clean dataset\n",
    "df_clean.to_csv(\"Building_Permits_clean.csv\", index=False)"
   ]
  }
 ],
 "metadata": {
  "kernelspec": {
   "display_name": "Python 3.10.4 64-bit",
   "language": "python",
   "name": "python3"
  },
  "language_info": {
   "codemirror_mode": {
    "name": "ipython",
    "version": 3
   },
   "file_extension": ".py",
   "mimetype": "text/x-python",
   "name": "python",
   "nbconvert_exporter": "python",
   "pygments_lexer": "ipython3",
   "version": "3.10.4"
  },
  "orig_nbformat": 4,
  "vscode": {
   "interpreter": {
    "hash": "aee8b7b246df8f9039afb4144a1f6fd8d2ca17a180786b69acc140d282b71a49"
   }
  }
 },
 "nbformat": 4,
 "nbformat_minor": 2
}
